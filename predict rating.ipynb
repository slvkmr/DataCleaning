{
 "cells": [
  {
   "cell_type": "code",
   "execution_count": 1,
   "metadata": {
    "collapsed": true
   },
   "outputs": [],
   "source": [
    "import pandas as pd\n",
    "import numpy as np\n",
    "import re\n",
    "from sklearn.feature_extraction.text import TfidfVectorizer\n",
    "from sklearn.ensemble import RandomForestClassifier\n",
    "from sklearn.metrics import accuracy_score, classification_report, confusion_matrix\n",
    "from sklearn.model_selection import train_test_split"
   ]
  },
  {
   "cell_type": "code",
   "execution_count": 2,
   "metadata": {
    "collapsed": true
   },
   "outputs": [],
   "source": [
    "df = pd.read_csv(r'C:\\Users\\Selva\\Desktop\\Cyrus\\OneDrive_1_9-4-2019\\Predict rating.csv')"
   ]
  },
  {
   "cell_type": "code",
   "execution_count": 3,
   "metadata": {
    "collapsed": true
   },
   "outputs": [],
   "source": [
    "pd.set_option('display.max_colwidth', -1)"
   ]
  },
  {
   "cell_type": "code",
   "execution_count": 4,
   "metadata": {},
   "outputs": [
    {
     "data": {
      "text/html": [
       "<div>\n",
       "<style scoped>\n",
       "    .dataframe tbody tr th:only-of-type {\n",
       "        vertical-align: middle;\n",
       "    }\n",
       "\n",
       "    .dataframe tbody tr th {\n",
       "        vertical-align: top;\n",
       "    }\n",
       "\n",
       "    .dataframe thead th {\n",
       "        text-align: right;\n",
       "    }\n",
       "</style>\n",
       "<table border=\"1\" class=\"dataframe\">\n",
       "  <thead>\n",
       "    <tr style=\"text-align: right;\">\n",
       "      <th></th>\n",
       "      <th>review_title</th>\n",
       "      <th>review_body</th>\n",
       "      <th>rating</th>\n",
       "      <th>staff_rating</th>\n",
       "      <th>atmos_rating</th>\n",
       "      <th>bud_rating</th>\n",
       "    </tr>\n",
       "  </thead>\n",
       "  <tbody>\n",
       "    <tr>\n",
       "      <th>160891</th>\n",
       "      <td>THE best in S.D.</td>\n",
       "      <td>STAFF is amazing always ðJenið</td>\n",
       "      <td>5.0</td>\n",
       "      <td>5.0</td>\n",
       "      <td>5.0</td>\n",
       "      <td>5.0</td>\n",
       "    </tr>\n",
       "    <tr>\n",
       "      <th>154211</th>\n",
       "      <td>Great spot great prices</td>\n",
       "      <td>Great service, good quality strains. Happy hour is the time to go</td>\n",
       "      <td>5.0</td>\n",
       "      <td>5.0</td>\n",
       "      <td>5.0</td>\n",
       "      <td>5.0</td>\n",
       "    </tr>\n",
       "    <tr>\n",
       "      <th>25429</th>\n",
       "      <td>Great new place!!!</td>\n",
       "      <td>Ordered yesterday because I broke my bong and didn't feel like going out. Luckily they had a great selection of bongs!! I got a 16\" with two percs and an ice catcher I love it, what other place has good bongs &amp; will deliver them same day!? I got lemon venom &amp; durban poison both good bud &amp; I got 2 packs of caramel edibles for free!</td>\n",
       "      <td>5.0</td>\n",
       "      <td>5.0</td>\n",
       "      <td>NaN</td>\n",
       "      <td>5.0</td>\n",
       "    </tr>\n",
       "    <tr>\n",
       "      <th>36043</th>\n",
       "      <td>best</td>\n",
       "      <td>my go to shop, good variety of bud, bud tenders give good suggestions ð</td>\n",
       "      <td>5.0</td>\n",
       "      <td>5.0</td>\n",
       "      <td>5.0</td>\n",
       "      <td>5.0</td>\n",
       "    </tr>\n",
       "    <tr>\n",
       "      <th>87390</th>\n",
       "      <td>NaN</td>\n",
       "      <td>NaN</td>\n",
       "      <td>NaN</td>\n",
       "      <td>NaN</td>\n",
       "      <td>NaN</td>\n",
       "      <td>NaN</td>\n",
       "    </tr>\n",
       "    <tr>\n",
       "      <th>95090</th>\n",
       "      <td>New management is great</td>\n",
       "      <td>like this plase the have some great deals on some good buds</td>\n",
       "      <td>5.0</td>\n",
       "      <td>5.0</td>\n",
       "      <td>5.0</td>\n",
       "      <td>5.0</td>\n",
       "    </tr>\n",
       "    <tr>\n",
       "      <th>43961</th>\n",
       "      <td>nice fast service</td>\n",
       "      <td>for a ftp I love the service and the flowers was also wonderful I will most definitely use you guys again.</td>\n",
       "      <td>5.0</td>\n",
       "      <td>5.0</td>\n",
       "      <td>NaN</td>\n",
       "      <td>5.0</td>\n",
       "    </tr>\n",
       "    <tr>\n",
       "      <th>133754</th>\n",
       "      <td>I love AMG !!</td>\n",
       "      <td>It has become my favorite shop and I don't even live close to it lol. The drive is always worth it. Great meds at great prices. Thanks AMG !!</td>\n",
       "      <td>5.0</td>\n",
       "      <td>5.0</td>\n",
       "      <td>5.0</td>\n",
       "      <td>5.0</td>\n",
       "    </tr>\n",
       "    <tr>\n",
       "      <th>114485</th>\n",
       "      <td>always fire!</td>\n",
       "      <td>get selection and great people never have a bad time going to this place. HIGHLY SUGGESTED!</td>\n",
       "      <td>5.0</td>\n",
       "      <td>5.0</td>\n",
       "      <td>5.0</td>\n",
       "      <td>5.0</td>\n",
       "    </tr>\n",
       "    <tr>\n",
       "      <th>81438</th>\n",
       "      <td>Best Place Ever</td>\n",
       "      <td>Service is always quick, security is amazing (shoutout to Ethan - he remembered me after just a couple visits... what a gentleman!) and to Austin who helped my sister and I get everything we need! Iâll never go anywhere else!</td>\n",
       "      <td>5.0</td>\n",
       "      <td>5.0</td>\n",
       "      <td>5.0</td>\n",
       "      <td>5.0</td>\n",
       "    </tr>\n",
       "    <tr>\n",
       "      <th>33977</th>\n",
       "      <td>Ã¢ÂÂ¤Ã¯Â¸Â</td>\n",
       "      <td>Love this place . Herbs are good quality at a really good price. And his place is not too far from home... found my new spot</td>\n",
       "      <td>5.0</td>\n",
       "      <td>5.0</td>\n",
       "      <td>5.0</td>\n",
       "      <td>5.0</td>\n",
       "    </tr>\n",
       "    <tr>\n",
       "      <th>155627</th>\n",
       "      <td>OGB</td>\n",
       "      <td>Gotta hit this shop up...got the bomb meds best dealz around got them moonrockz friendly staff n budtenders..prop 64 friendly..</td>\n",
       "      <td>5.0</td>\n",
       "      <td>5.0</td>\n",
       "      <td>5.0</td>\n",
       "      <td>5.0</td>\n",
       "    </tr>\n",
       "    <tr>\n",
       "      <th>126006</th>\n",
       "      <td>SOOOO MY NEW SPOT!!!!</td>\n",
       "      <td>Wow where have these guys been all my life? amazing flower and high quallity wax 2 grams for $60!!! SOOOO MY NEW SPOT</td>\n",
       "      <td>5.0</td>\n",
       "      <td>5.0</td>\n",
       "      <td>NaN</td>\n",
       "      <td>5.0</td>\n",
       "    </tr>\n",
       "    <tr>\n",
       "      <th>113048</th>\n",
       "      <td>My new spot</td>\n",
       "      <td>was on a quest to find a new main store. ready to spend as long as it took. first store and I'm done! prices are amazing. staff incredibly friendly very short wait. And furthest North in Chula Vista. only place to go if you live in national city for sure.</td>\n",
       "      <td>5.0</td>\n",
       "      <td>5.0</td>\n",
       "      <td>5.0</td>\n",
       "      <td>5.0</td>\n",
       "    </tr>\n",
       "    <tr>\n",
       "      <th>23847</th>\n",
       "      <td>Quick delivery</td>\n",
       "      <td>Had a delivery a couple of weeks ago..it was quick response and delivery. Delivery guy was super chill. Good product.</td>\n",
       "      <td>5.0</td>\n",
       "      <td>5.0</td>\n",
       "      <td>NaN</td>\n",
       "      <td>5.0</td>\n",
       "    </tr>\n",
       "    <tr>\n",
       "      <th>165947</th>\n",
       "      <td>Swmc</td>\n",
       "      <td>Great service and variety</td>\n",
       "      <td>5.0</td>\n",
       "      <td>5.0</td>\n",
       "      <td>NaN</td>\n",
       "      <td>5.0</td>\n",
       "    </tr>\n",
       "    <tr>\n",
       "      <th>12388</th>\n",
       "      <td>Great shop!</td>\n",
       "      <td>Amazing flowers and awesome bud tenders!!</td>\n",
       "      <td>5.0</td>\n",
       "      <td>5.0</td>\n",
       "      <td>5.0</td>\n",
       "      <td>5.0</td>\n",
       "    </tr>\n",
       "    <tr>\n",
       "      <th>4359</th>\n",
       "      <td>Bomb bud always</td>\n",
       "      <td>Every time I come here I get hooked up with some fire. Kat is such a dope budtender! And the guard mone is always chill asf. Love coming here for all my medical needs. Def recommend.</td>\n",
       "      <td>5.0</td>\n",
       "      <td>5.0</td>\n",
       "      <td>5.0</td>\n",
       "      <td>5.0</td>\n",
       "    </tr>\n",
       "    <tr>\n",
       "      <th>131644</th>\n",
       "      <td>The best in L.A</td>\n",
       "      <td>Bombay kush  they got the best in tonw. The best deals come check them out.. my favorite spot..Fire Fire Cute Bud tenders ;)</td>\n",
       "      <td>5.0</td>\n",
       "      <td>5.0</td>\n",
       "      <td>5.0</td>\n",
       "      <td>5.0</td>\n",
       "    </tr>\n",
       "    <tr>\n",
       "      <th>132521</th>\n",
       "      <td>we budget</td>\n",
       "      <td>great place always with the deals</td>\n",
       "      <td>5.0</td>\n",
       "      <td>5.0</td>\n",
       "      <td>5.0</td>\n",
       "      <td>5.0</td>\n",
       "    </tr>\n",
       "    <tr>\n",
       "      <th>111803</th>\n",
       "      <td>Great shop</td>\n",
       "      <td>As good as advertised.. great prices, excellent meds and staff...Shout out to Fernando @ Letty..</td>\n",
       "      <td>5.0</td>\n",
       "      <td>5.0</td>\n",
       "      <td>5.0</td>\n",
       "      <td>5.0</td>\n",
       "    </tr>\n",
       "    <tr>\n",
       "      <th>4824</th>\n",
       "      <td>Highly recommended!!</td>\n",
       "      <td>Great selection, great price, great people who care, and realistic delivery times. And a rewards card too!</td>\n",
       "      <td>5.0</td>\n",
       "      <td>5.0</td>\n",
       "      <td>NaN</td>\n",
       "      <td>5.0</td>\n",
       "    </tr>\n",
       "    <tr>\n",
       "      <th>12568</th>\n",
       "      <td>love this place</td>\n",
       "      <td>great product's great prices</td>\n",
       "      <td>5.0</td>\n",
       "      <td>5.0</td>\n",
       "      <td>5.0</td>\n",
       "      <td>5.0</td>\n",
       "    </tr>\n",
       "    <tr>\n",
       "      <th>48148</th>\n",
       "      <td>great</td>\n",
       "      <td>omg! your service is great. Love the product. will definitely come back!</td>\n",
       "      <td>5.0</td>\n",
       "      <td>5.0</td>\n",
       "      <td>NaN</td>\n",
       "      <td>5.0</td>\n",
       "    </tr>\n",
       "    <tr>\n",
       "      <th>25671</th>\n",
       "      <td>#1</td>\n",
       "      <td>best shop in LA âð¿ðð¿ðð¿</td>\n",
       "      <td>5.0</td>\n",
       "      <td>5.0</td>\n",
       "      <td>5.0</td>\n",
       "      <td>5.0</td>\n",
       "    </tr>\n",
       "  </tbody>\n",
       "</table>\n",
       "</div>"
      ],
      "text/plain": [
       "                   review_title  \\\n",
       "160891  THE best in S.D.          \n",
       "154211  Great spot great prices   \n",
       "25429   Great new place!!!        \n",
       "36043   best                      \n",
       "87390   NaN                       \n",
       "95090   New management is great   \n",
       "43961   nice fast service         \n",
       "133754  I love AMG !!             \n",
       "114485  always fire!              \n",
       "81438   Best Place Ever           \n",
       "33977   Ã¢ÂÂ¤Ã¯Â¸Â              \n",
       "155627  OGB                       \n",
       "126006  SOOOO MY NEW SPOT!!!!     \n",
       "113048  My new spot               \n",
       "23847   Quick delivery            \n",
       "165947  Swmc                      \n",
       "12388   Great shop!               \n",
       "4359    Bomb bud always           \n",
       "131644  The best in L.A           \n",
       "132521  we budget                 \n",
       "111803  Great shop                \n",
       "4824    Highly recommended!!      \n",
       "12568   love this place           \n",
       "48148   great                     \n",
       "25671   #1                        \n",
       "\n",
       "                                                                                                                                                                                                                                                                                                                                         review_body  \\\n",
       "160891  STAFF is amazing always ðJenið                                                                                                                                                                                                                                                                                                           \n",
       "154211  Great service, good quality strains. Happy hour is the time to go                                                                                                                                                                                                                                                                              \n",
       "25429   Ordered yesterday because I broke my bong and didn't feel like going out. Luckily they had a great selection of bongs!! I got a 16\" with two percs and an ice catcher I love it, what other place has good bongs & will deliver them same day!? I got lemon venom & durban poison both good bud & I got 2 packs of caramel edibles for free!   \n",
       "36043   my go to shop, good variety of bud, bud tenders give good suggestions ð                                                                                                                                                                                                                                                                     \n",
       "87390   NaN                                                                                                                                                                                                                                                                                                                                            \n",
       "95090   like this plase the have some great deals on some good buds                                                                                                                                                                                                                                                                                    \n",
       "43961   for a ftp I love the service and the flowers was also wonderful I will most definitely use you guys again.                                                                                                                                                                                                                                     \n",
       "133754  It has become my favorite shop and I don't even live close to it lol. The drive is always worth it. Great meds at great prices. Thanks AMG !!                                                                                                                                                                                                  \n",
       "114485  get selection and great people never have a bad time going to this place. HIGHLY SUGGESTED!                                                                                                                                                                                                                                                    \n",
       "81438   Service is always quick, security is amazing (shoutout to Ethan - he remembered me after just a couple visits... what a gentleman!) and to Austin who helped my sister and I get everything we need! Iâll never go anywhere else!                                                                                                            \n",
       "33977   Love this place . Herbs are good quality at a really good price. And his place is not too far from home... found my new spot                                                                                                                                                                                                                   \n",
       "155627  Gotta hit this shop up...got the bomb meds best dealz around got them moonrockz friendly staff n budtenders..prop 64 friendly..                                                                                                                                                                                                                \n",
       "126006  Wow where have these guys been all my life? amazing flower and high quallity wax 2 grams for $60!!! SOOOO MY NEW SPOT                                                                                                                                                                                                                          \n",
       "113048  was on a quest to find a new main store. ready to spend as long as it took. first store and I'm done! prices are amazing. staff incredibly friendly very short wait. And furthest North in Chula Vista. only place to go if you live in national city for sure.                                                                                \n",
       "23847   Had a delivery a couple of weeks ago..it was quick response and delivery. Delivery guy was super chill. Good product.                                                                                                                                                                                                                          \n",
       "165947  Great service and variety                                                                                                                                                                                                                                                                                                                      \n",
       "12388   Amazing flowers and awesome bud tenders!!                                                                                                                                                                                                                                                                                                      \n",
       "4359    Every time I come here I get hooked up with some fire. Kat is such a dope budtender! And the guard mone is always chill asf. Love coming here for all my medical needs. Def recommend.                                                                                                                                                         \n",
       "131644  Bombay kush  they got the best in tonw. The best deals come check them out.. my favorite spot..Fire Fire Cute Bud tenders ;)                                                                                                                                                                                                                   \n",
       "132521  great place always with the deals                                                                                                                                                                                                                                                                                                              \n",
       "111803  As good as advertised.. great prices, excellent meds and staff...Shout out to Fernando @ Letty..                                                                                                                                                                                                                                               \n",
       "4824    Great selection, great price, great people who care, and realistic delivery times. And a rewards card too!                                                                                                                                                                                                                                     \n",
       "12568   great product's great prices                                                                                                                                                                                                                                                                                                                   \n",
       "48148   omg! your service is great. Love the product. will definitely come back!                                                                                                                                                                                                                                                                       \n",
       "25671   best shop in LA âð¿ðð¿ðð¿                                                                                                                                                                                                                                                                                                        \n",
       "\n",
       "        rating  staff_rating  atmos_rating  bud_rating  \n",
       "160891  5.0     5.0           5.0           5.0         \n",
       "154211  5.0     5.0           5.0           5.0         \n",
       "25429   5.0     5.0          NaN            5.0         \n",
       "36043   5.0     5.0           5.0           5.0         \n",
       "87390  NaN     NaN           NaN           NaN          \n",
       "95090   5.0     5.0           5.0           5.0         \n",
       "43961   5.0     5.0          NaN            5.0         \n",
       "133754  5.0     5.0           5.0           5.0         \n",
       "114485  5.0     5.0           5.0           5.0         \n",
       "81438   5.0     5.0           5.0           5.0         \n",
       "33977   5.0     5.0           5.0           5.0         \n",
       "155627  5.0     5.0           5.0           5.0         \n",
       "126006  5.0     5.0          NaN            5.0         \n",
       "113048  5.0     5.0           5.0           5.0         \n",
       "23847   5.0     5.0          NaN            5.0         \n",
       "165947  5.0     5.0          NaN            5.0         \n",
       "12388   5.0     5.0           5.0           5.0         \n",
       "4359    5.0     5.0           5.0           5.0         \n",
       "131644  5.0     5.0           5.0           5.0         \n",
       "132521  5.0     5.0           5.0           5.0         \n",
       "111803  5.0     5.0           5.0           5.0         \n",
       "4824    5.0     5.0          NaN            5.0         \n",
       "12568   5.0     5.0           5.0           5.0         \n",
       "48148   5.0     5.0          NaN            5.0         \n",
       "25671   5.0     5.0           5.0           5.0         "
      ]
     },
     "execution_count": 4,
     "metadata": {},
     "output_type": "execute_result"
    }
   ],
   "source": [
    "df[['review_title','review_body','rating','staff_rating','atmos_rating','bud_rating']].sample(25)"
   ]
  },
  {
   "cell_type": "markdown",
   "metadata": {},
   "source": [
    "## 1.Predict Rating"
   ]
  },
  {
   "cell_type": "code",
   "execution_count": 5,
   "metadata": {
    "collapsed": true
   },
   "outputs": [],
   "source": [
    "rating_df= df[['review_title','review_body','rating']]"
   ]
  },
  {
   "cell_type": "code",
   "execution_count": 6,
   "metadata": {},
   "outputs": [
    {
     "data": {
      "text/html": [
       "<div>\n",
       "<style scoped>\n",
       "    .dataframe tbody tr th:only-of-type {\n",
       "        vertical-align: middle;\n",
       "    }\n",
       "\n",
       "    .dataframe tbody tr th {\n",
       "        vertical-align: top;\n",
       "    }\n",
       "\n",
       "    .dataframe thead th {\n",
       "        text-align: right;\n",
       "    }\n",
       "</style>\n",
       "<table border=\"1\" class=\"dataframe\">\n",
       "  <thead>\n",
       "    <tr style=\"text-align: right;\">\n",
       "      <th></th>\n",
       "      <th>review_title</th>\n",
       "      <th>review_body</th>\n",
       "      <th>rating</th>\n",
       "    </tr>\n",
       "  </thead>\n",
       "  <tbody>\n",
       "    <tr>\n",
       "      <th>0</th>\n",
       "      <td>BEST QUALITY FOR BEAUTIFUL PRICE</td>\n",
       "      <td>Best quality of bud i have ever seen every jar was filled with sticky potent weed not to mention the fire waxes! My new spot fosho</td>\n",
       "      <td>5.0</td>\n",
       "    </tr>\n",
       "    <tr>\n",
       "      <th>1</th>\n",
       "      <td>FTP</td>\n",
       "      <td>Cool shop. Nice meds, prices, and staff.</td>\n",
       "      <td>5.0</td>\n",
       "    </tr>\n",
       "    <tr>\n",
       "      <th>2</th>\n",
       "      <td>great place</td>\n",
       "      <td>good product great staff friendly atmosphere</td>\n",
       "      <td>5.0</td>\n",
       "    </tr>\n",
       "    <tr>\n",
       "      <th>3</th>\n",
       "      <td>OC HOTBOX GOT ð¥</td>\n",
       "      <td>Bomb meds and staff, headed to the hot box now and so should you!</td>\n",
       "      <td>5.0</td>\n",
       "    </tr>\n",
       "    <tr>\n",
       "      <th>4</th>\n",
       "      <td>Great place.</td>\n",
       "      <td>1st time client. Easy location, great atmosphere. The staff was pleasant and I worked with Tyler who was very knowledgable about his products. I felt comfortable purchasing, definitely will return.</td>\n",
       "      <td>5.0</td>\n",
       "    </tr>\n",
       "  </tbody>\n",
       "</table>\n",
       "</div>"
      ],
      "text/plain": [
       "                       review_title  \\\n",
       "0  BEST QUALITY FOR BEAUTIFUL PRICE   \n",
       "1  FTP                                \n",
       "2  great place                        \n",
       "3  OC HOTBOX GOT ð¥                 \n",
       "4  Great place.                       \n",
       "\n",
       "                                                                                                                                                                                             review_body  \\\n",
       "0  Best quality of bud i have ever seen every jar was filled with sticky potent weed not to mention the fire waxes! My new spot fosho                                                                      \n",
       "1  Cool shop. Nice meds, prices, and staff.                                                                                                                                                                \n",
       "2  good product great staff friendly atmosphere                                                                                                                                                            \n",
       "3  Bomb meds and staff, headed to the hot box now and so should you!                                                                                                                                       \n",
       "4  1st time client. Easy location, great atmosphere. The staff was pleasant and I worked with Tyler who was very knowledgable about his products. I felt comfortable purchasing, definitely will return.   \n",
       "\n",
       "   rating  \n",
       "0  5.0     \n",
       "1  5.0     \n",
       "2  5.0     \n",
       "3  5.0     \n",
       "4  5.0     "
      ]
     },
     "execution_count": 6,
     "metadata": {},
     "output_type": "execute_result"
    }
   ],
   "source": [
    "rating_df.head()"
   ]
  },
  {
   "cell_type": "markdown",
   "metadata": {},
   "source": [
    "#### Checking null values"
   ]
  },
  {
   "cell_type": "code",
   "execution_count": 7,
   "metadata": {},
   "outputs": [
    {
     "data": {
      "text/plain": [
       "True"
      ]
     },
     "execution_count": 7,
     "metadata": {},
     "output_type": "execute_result"
    }
   ],
   "source": [
    "rating_df.isnull().values.any()"
   ]
  },
  {
   "cell_type": "code",
   "execution_count": 8,
   "metadata": {},
   "outputs": [
    {
     "data": {
      "text/plain": [
       "(173101, 3)"
      ]
     },
     "execution_count": 8,
     "metadata": {},
     "output_type": "execute_result"
    }
   ],
   "source": [
    "rating_df.shape"
   ]
  },
  {
   "cell_type": "code",
   "execution_count": 9,
   "metadata": {
    "collapsed": true
   },
   "outputs": [],
   "source": [
    "rating_df = rating_df.dropna()\n",
    "rating_df.reset_index(inplace=True,drop=True)"
   ]
  },
  {
   "cell_type": "code",
   "execution_count": 10,
   "metadata": {},
   "outputs": [
    {
     "data": {
      "text/plain": [
       "(161131, 3)"
      ]
     },
     "execution_count": 10,
     "metadata": {},
     "output_type": "execute_result"
    }
   ],
   "source": [
    "rating_df.shape"
   ]
  },
  {
   "cell_type": "code",
   "execution_count": 11,
   "metadata": {},
   "outputs": [
    {
     "data": {
      "text/plain": [
       "False"
      ]
     },
     "execution_count": 11,
     "metadata": {},
     "output_type": "execute_result"
    }
   ],
   "source": [
    "rating_df.isnull().values.any()"
   ]
  },
  {
   "cell_type": "markdown",
   "metadata": {},
   "source": [
    "#### Cleaning Data"
   ]
  },
  {
   "cell_type": "code",
   "execution_count": 12,
   "metadata": {
    "collapsed": true
   },
   "outputs": [],
   "source": [
    "for index,row in rating_df.iterrows():\n",
    "    rating_df.at[index,'review_title'] = ''.join([char if ord(char) < 128 else '' for char in row['review_title']])\n",
    "    rating_df.at[index,'review_body'] = ''.join([char if ord(char) < 128 else '' for char in row['review_body']])"
   ]
  },
  {
   "cell_type": "code",
   "execution_count": 13,
   "metadata": {
    "collapsed": true
   },
   "outputs": [],
   "source": [
    "rating_df['review_title'].replace('',np.nan,inplace=True)\n",
    "rating_df['review_body'].replace('',np.nan,inplace=True)"
   ]
  },
  {
   "cell_type": "code",
   "execution_count": 14,
   "metadata": {},
   "outputs": [
    {
     "data": {
      "text/plain": [
       "True"
      ]
     },
     "execution_count": 14,
     "metadata": {},
     "output_type": "execute_result"
    }
   ],
   "source": [
    "rating_df.isnull().values.any()"
   ]
  },
  {
   "cell_type": "code",
   "execution_count": 15,
   "metadata": {
    "collapsed": true
   },
   "outputs": [],
   "source": [
    "rating_df.dropna(inplace=True)\n",
    "rating_df.reset_index(inplace=True,drop=True)"
   ]
  },
  {
   "cell_type": "code",
   "execution_count": 16,
   "metadata": {},
   "outputs": [
    {
     "data": {
      "text/plain": [
       "(157684, 3)"
      ]
     },
     "execution_count": 16,
     "metadata": {},
     "output_type": "execute_result"
    }
   ],
   "source": [
    "rating_df.shape"
   ]
  },
  {
   "cell_type": "code",
   "execution_count": 17,
   "metadata": {},
   "outputs": [
    {
     "data": {
      "text/html": [
       "<div>\n",
       "<style scoped>\n",
       "    .dataframe tbody tr th:only-of-type {\n",
       "        vertical-align: middle;\n",
       "    }\n",
       "\n",
       "    .dataframe tbody tr th {\n",
       "        vertical-align: top;\n",
       "    }\n",
       "\n",
       "    .dataframe thead th {\n",
       "        text-align: right;\n",
       "    }\n",
       "</style>\n",
       "<table border=\"1\" class=\"dataframe\">\n",
       "  <thead>\n",
       "    <tr style=\"text-align: right;\">\n",
       "      <th></th>\n",
       "      <th>review_title</th>\n",
       "      <th>review_body</th>\n",
       "      <th>rating</th>\n",
       "    </tr>\n",
       "  </thead>\n",
       "  <tbody>\n",
       "    <tr>\n",
       "      <th>0</th>\n",
       "      <td>BEST QUALITY FOR BEAUTIFUL PRICE</td>\n",
       "      <td>Best quality of bud i have ever seen every jar was filled with sticky potent weed not to mention the fire waxes! My new spot fosho</td>\n",
       "      <td>5.0</td>\n",
       "    </tr>\n",
       "    <tr>\n",
       "      <th>1</th>\n",
       "      <td>FTP</td>\n",
       "      <td>Cool shop. Nice meds, prices, and staff.</td>\n",
       "      <td>5.0</td>\n",
       "    </tr>\n",
       "    <tr>\n",
       "      <th>2</th>\n",
       "      <td>great place</td>\n",
       "      <td>good product great staff friendly atmosphere</td>\n",
       "      <td>5.0</td>\n",
       "    </tr>\n",
       "    <tr>\n",
       "      <th>3</th>\n",
       "      <td>OC HOTBOX GOT</td>\n",
       "      <td>Bomb meds and staff, headed to the hot box now and so should you!</td>\n",
       "      <td>5.0</td>\n",
       "    </tr>\n",
       "    <tr>\n",
       "      <th>4</th>\n",
       "      <td>Great place.</td>\n",
       "      <td>1st time client. Easy location, great atmosphere. The staff was pleasant and I worked with Tyler who was very knowledgable about his products. I felt comfortable purchasing, definitely will return.</td>\n",
       "      <td>5.0</td>\n",
       "    </tr>\n",
       "  </tbody>\n",
       "</table>\n",
       "</div>"
      ],
      "text/plain": [
       "                       review_title  \\\n",
       "0  BEST QUALITY FOR BEAUTIFUL PRICE   \n",
       "1  FTP                                \n",
       "2  great place                        \n",
       "3  OC HOTBOX GOT                      \n",
       "4  Great place.                       \n",
       "\n",
       "                                                                                                                                                                                             review_body  \\\n",
       "0  Best quality of bud i have ever seen every jar was filled with sticky potent weed not to mention the fire waxes! My new spot fosho                                                                      \n",
       "1  Cool shop. Nice meds, prices, and staff.                                                                                                                                                                \n",
       "2  good product great staff friendly atmosphere                                                                                                                                                            \n",
       "3  Bomb meds and staff, headed to the hot box now and so should you!                                                                                                                                       \n",
       "4  1st time client. Easy location, great atmosphere. The staff was pleasant and I worked with Tyler who was very knowledgable about his products. I felt comfortable purchasing, definitely will return.   \n",
       "\n",
       "   rating  \n",
       "0  5.0     \n",
       "1  5.0     \n",
       "2  5.0     \n",
       "3  5.0     \n",
       "4  5.0     "
      ]
     },
     "execution_count": 17,
     "metadata": {},
     "output_type": "execute_result"
    }
   ],
   "source": [
    "rating_df.head()"
   ]
  },
  {
   "cell_type": "markdown",
   "metadata": {},
   "source": [
    "#### Generating Features"
   ]
  },
  {
   "cell_type": "code",
   "execution_count": 18,
   "metadata": {
    "collapsed": true
   },
   "outputs": [],
   "source": [
    "rating_df['review'] =  rating_df['review_title'] + ' ' + rating_df['review_body']\n",
    "rating_df = rating_df[['review','rating']]"
   ]
  },
  {
   "cell_type": "code",
   "execution_count": 19,
   "metadata": {},
   "outputs": [
    {
     "data": {
      "text/html": [
       "<div>\n",
       "<style scoped>\n",
       "    .dataframe tbody tr th:only-of-type {\n",
       "        vertical-align: middle;\n",
       "    }\n",
       "\n",
       "    .dataframe tbody tr th {\n",
       "        vertical-align: top;\n",
       "    }\n",
       "\n",
       "    .dataframe thead th {\n",
       "        text-align: right;\n",
       "    }\n",
       "</style>\n",
       "<table border=\"1\" class=\"dataframe\">\n",
       "  <thead>\n",
       "    <tr style=\"text-align: right;\">\n",
       "      <th></th>\n",
       "      <th>review</th>\n",
       "      <th>rating</th>\n",
       "    </tr>\n",
       "  </thead>\n",
       "  <tbody>\n",
       "    <tr>\n",
       "      <th>0</th>\n",
       "      <td>BEST QUALITY FOR BEAUTIFUL PRICE Best quality of bud i have ever seen every jar was filled with sticky potent weed not to mention the fire waxes! My new spot fosho</td>\n",
       "      <td>5.0</td>\n",
       "    </tr>\n",
       "    <tr>\n",
       "      <th>1</th>\n",
       "      <td>FTP Cool shop. Nice meds, prices, and staff.</td>\n",
       "      <td>5.0</td>\n",
       "    </tr>\n",
       "    <tr>\n",
       "      <th>2</th>\n",
       "      <td>great place  good product great staff friendly atmosphere</td>\n",
       "      <td>5.0</td>\n",
       "    </tr>\n",
       "    <tr>\n",
       "      <th>3</th>\n",
       "      <td>OC HOTBOX GOT  Bomb meds and staff, headed to the hot box now and so should you!</td>\n",
       "      <td>5.0</td>\n",
       "    </tr>\n",
       "    <tr>\n",
       "      <th>4</th>\n",
       "      <td>Great place. 1st time client. Easy location, great atmosphere. The staff was pleasant and I worked with Tyler who was very knowledgable about his products. I felt comfortable purchasing, definitely will return.</td>\n",
       "      <td>5.0</td>\n",
       "    </tr>\n",
       "  </tbody>\n",
       "</table>\n",
       "</div>"
      ],
      "text/plain": [
       "                                                                                                                                                                                                               review  \\\n",
       "0  BEST QUALITY FOR BEAUTIFUL PRICE Best quality of bud i have ever seen every jar was filled with sticky potent weed not to mention the fire waxes! My new spot fosho                                                  \n",
       "1  FTP Cool shop. Nice meds, prices, and staff.                                                                                                                                                                         \n",
       "2  great place  good product great staff friendly atmosphere                                                                                                                                                            \n",
       "3  OC HOTBOX GOT  Bomb meds and staff, headed to the hot box now and so should you!                                                                                                                                     \n",
       "4  Great place. 1st time client. Easy location, great atmosphere. The staff was pleasant and I worked with Tyler who was very knowledgable about his products. I felt comfortable purchasing, definitely will return.   \n",
       "\n",
       "   rating  \n",
       "0  5.0     \n",
       "1  5.0     \n",
       "2  5.0     \n",
       "3  5.0     \n",
       "4  5.0     "
      ]
     },
     "execution_count": 19,
     "metadata": {},
     "output_type": "execute_result"
    }
   ],
   "source": [
    "rating_df.head()"
   ]
  },
  {
   "cell_type": "code",
   "execution_count": 20,
   "metadata": {},
   "outputs": [
    {
     "name": "stderr",
     "output_type": "stream",
     "text": [
      "C:\\Users\\Selva\\Anaconda3\\lib\\site-packages\\sklearn\\feature_extraction\\text.py:1089: FutureWarning: Conversion of the second argument of issubdtype from `float` to `np.floating` is deprecated. In future, it will be treated as `np.float64 == np.dtype(float).type`.\n",
      "  if hasattr(X, 'dtype') and np.issubdtype(X.dtype, np.float):\n"
     ]
    }
   ],
   "source": [
    "vect = TfidfVectorizer(input='content',stop_words='english',analyzer='word', ngram_range=(1,2),\n",
    "                     min_df = 0, sublinear_tf=True)\n",
    "X = vect.fit_transform(rating_df.review)\n"
   ]
  },
  {
   "cell_type": "code",
   "execution_count": 21,
   "metadata": {},
   "outputs": [
    {
     "name": "stdout",
     "output_type": "stream",
     "text": [
      "(157684, 861273)\n"
     ]
    }
   ],
   "source": [
    "print(X.shape)"
   ]
  },
  {
   "cell_type": "code",
   "execution_count": 22,
   "metadata": {
    "collapsed": true
   },
   "outputs": [],
   "source": [
    "rating_df['rating'] = [int(round(i)) for i in rating_df.rating]"
   ]
  },
  {
   "cell_type": "markdown",
   "metadata": {},
   "source": [
    "#### Modelling"
   ]
  },
  {
   "cell_type": "code",
   "execution_count": 25,
   "metadata": {
    "collapsed": true
   },
   "outputs": [],
   "source": [
    "x_train, x_test, y_train, y_test = train_test_split(X, rating_df.rating, test_size=0.25, random_state = 7)\n",
    "clf = RandomForestClassifier(n_estimators=10, random_state=7)"
   ]
  },
  {
   "cell_type": "code",
   "execution_count": 26,
   "metadata": {},
   "outputs": [
    {
     "data": {
      "text/plain": [
       "RandomForestClassifier(bootstrap=True, class_weight=None, criterion='gini',\n",
       "            max_depth=None, max_features='auto', max_leaf_nodes=None,\n",
       "            min_impurity_decrease=0.0, min_impurity_split=None,\n",
       "            min_samples_leaf=1, min_samples_split=2,\n",
       "            min_weight_fraction_leaf=0.0, n_estimators=10, n_jobs=1,\n",
       "            oob_score=False, random_state=7, verbose=0, warm_start=False)"
      ]
     },
     "execution_count": 26,
     "metadata": {},
     "output_type": "execute_result"
    }
   ],
   "source": [
    "clf.fit(x_train,y_train )"
   ]
  },
  {
   "cell_type": "code",
   "execution_count": 27,
   "metadata": {},
   "outputs": [
    {
     "name": "stdout",
     "output_type": "stream",
     "text": [
      "0.9277542426625403\n"
     ]
    }
   ],
   "source": [
    "pred = clf.predict(x_test)\n",
    "print(accuracy_score(y_test, pred))"
   ]
  },
  {
   "cell_type": "code",
   "execution_count": 41,
   "metadata": {},
   "outputs": [
    {
     "name": "stdout",
     "output_type": "stream",
     "text": [
      "(157684, 861273)\n"
     ]
    }
   ],
   "source": [
    "print(X.shape)"
   ]
  },
  {
   "cell_type": "code",
   "execution_count": 42,
   "metadata": {},
   "outputs": [
    {
     "name": "stdout",
     "output_type": "stream",
     "text": [
      "best 0.07546898200336703\n",
      "quality 0.10760262178310111\n",
      "beautiful 0.11498527691088482\n",
      "price 0.08211682374339449\n",
      "bud 0.06043693638822543\n",
      "seen 0.11480358405286836\n",
      "jar 0.14528002247711122\n",
      "filled 0.15768992962371342\n",
      "sticky 0.13374794917480448\n",
      "potent 0.12077591176826957\n",
      "weed 0.07649258983818175\n",
      "mention 0.12378750624955498\n",
      "waxes 0.1477023284322686\n",
      "new 0.08318324843150021\n",
      "spot 0.0710254848200214\n",
      "fosho 0.19422214424379894\n",
      "best quality 0.2022251202325756\n",
      "quality beautiful 0.22601745844671559\n",
      "beautiful price 0.23749249359633015\n",
      "price best 0.16503353441052007\n",
      "quality bud 0.11715585704623686\n",
      "bud seen 0.2103896222156613\n",
      "seen jar 0.25170561701467703\n",
      "jar filled 0.24339147279682244\n",
      "filled sticky 0.25170561701467703\n",
      "sticky potent 0.2208642051606209\n",
      "potent weed 0.21674941188000046\n",
      "weed mention 0.22917834937847553\n",
      "mention waxes 0.25170561701467703\n",
      "waxes new 0.25170561701467703\n",
      "new spot 0.1299823033403372\n",
      "spot fosho 0.25170561701467703\n"
     ]
    }
   ],
   "source": [
    "feature_names = vect.get_feature_names()\n",
    "doc = 0\n",
    "feature_index = X[doc,:].nonzero()[1]\n",
    "tfidf_scores = zip(feature_index, [X[doc, x] for x in feature_index])\n",
    "for w, s in [(feature_names[i], s) for (i, s) in tfidf_scores]:\n",
    "    print(w, s)\n"
   ]
  }
 ],
 "metadata": {
  "kernelspec": {
   "display_name": "Python 3",
   "language": "python",
   "name": "python3"
  },
  "language_info": {
   "codemirror_mode": {
    "name": "ipython",
    "version": 3
   },
   "file_extension": ".py",
   "mimetype": "text/x-python",
   "name": "python",
   "nbconvert_exporter": "python",
   "pygments_lexer": "ipython3",
   "version": "3.6.6"
  }
 },
 "nbformat": 4,
 "nbformat_minor": 2
}
