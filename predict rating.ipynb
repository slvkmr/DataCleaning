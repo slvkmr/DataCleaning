{
 "cells": [
  {
   "cell_type": "code",
   "execution_count": 114,
   "metadata": {},
   "outputs": [],
   "source": [
    "import pandas as pd\n",
    "import numpy as np\n",
    "import re\n",
    "from sklearn.feature_extraction.text import TfidfVectorizer\n",
    "from sklearn.ensemble import RandomForestClassifier\n",
    "from sklearn.metrics import accuracy_score, classification_report, confusion_matrix\n",
    "from sklearn.model_selection import train_test_split\n",
    "from sklearn.inspection import * #permutation_importance\n",
    "from nltk.tokenize import sent_tokenize, word_tokenize\n",
    "from nltk.stem.wordnet import WordNetLemmatizer\n",
    "from nltk.stem import PorterStemmer\n",
    "import nltk\n",
    "from sklearn.feature_extraction.text import CountVectorizer\n",
    "from nltk.corpus import stopwords\n",
    "from collections import Counter\n",
    "from nltk.util import ngrams"
   ]
  },
  {
   "cell_type": "code",
   "execution_count": 38,
   "metadata": {},
   "outputs": [],
   "source": [
    "df = pd.read_csv(r'C:\\Users\\Selva\\Desktop\\Cyrus\\OneDrive_1_9-4-2019\\Predict rating.csv')"
   ]
  },
  {
   "cell_type": "code",
   "execution_count": 39,
   "metadata": {},
   "outputs": [],
   "source": [
    "pd.set_option('display.max_colwidth', -1)"
   ]
  },
  {
   "cell_type": "code",
   "execution_count": 40,
   "metadata": {},
   "outputs": [
    {
     "data": {
      "text/html": [
       "<div>\n",
       "<style scoped>\n",
       "    .dataframe tbody tr th:only-of-type {\n",
       "        vertical-align: middle;\n",
       "    }\n",
       "\n",
       "    .dataframe tbody tr th {\n",
       "        vertical-align: top;\n",
       "    }\n",
       "\n",
       "    .dataframe thead th {\n",
       "        text-align: right;\n",
       "    }\n",
       "</style>\n",
       "<table border=\"1\" class=\"dataframe\">\n",
       "  <thead>\n",
       "    <tr style=\"text-align: right;\">\n",
       "      <th></th>\n",
       "      <th>review_title</th>\n",
       "      <th>review_body</th>\n",
       "      <th>rating</th>\n",
       "      <th>staff_rating</th>\n",
       "      <th>atmos_rating</th>\n",
       "      <th>bud_rating</th>\n",
       "    </tr>\n",
       "  </thead>\n",
       "  <tbody>\n",
       "    <tr>\n",
       "      <td>120997</td>\n",
       "      <td>osides best .</td>\n",
       "      <td>i wont go anywhere else in oside..staff is very cool and they got that fire for a good price..quit playin .call em..</td>\n",
       "      <td>5.0</td>\n",
       "      <td>5.0</td>\n",
       "      <td>NaN</td>\n",
       "      <td>5.0</td>\n",
       "    </tr>\n",
       "    <tr>\n",
       "      <td>159595</td>\n",
       "      <td>The love is real</td>\n",
       "      <td>Live 2 Love is definitely the best of the best when its come to Oc dispensaries. The coolest and compassionate staff. The meds and deals are always amazing.  You would be doing yourself wrong not to check them out. THAnks for the showing love even when I was ballin on a budget</td>\n",
       "      <td>5.0</td>\n",
       "      <td>5.0</td>\n",
       "      <td>5.0</td>\n",
       "      <td>5.0</td>\n",
       "    </tr>\n",
       "    <tr>\n",
       "      <td>166481</td>\n",
       "      <td>Local guy</td>\n",
       "      <td>I've been to this dispensary a few times now and every time, I'm impressed with the staff, knowledge, product,everything is good. Thanks Keith, your always helpful and super cool. Thanks for providing your services locally. That's SUPER convenient.</td>\n",
       "      <td>5.0</td>\n",
       "      <td>5.0</td>\n",
       "      <td>5.0</td>\n",
       "      <td>5.0</td>\n",
       "    </tr>\n",
       "    <tr>\n",
       "      <td>107771</td>\n",
       "      <td>The only place I shop</td>\n",
       "      <td>Seriously, it takes a killer deal to even get me THINKING of trying another shop. \\nFire bud, amazing prices, and some of the nicest people you'll ever meet! \\nAnd if you aren't getting their TXT deals, you're missing out!</td>\n",
       "      <td>5.0</td>\n",
       "      <td>5.0</td>\n",
       "      <td>5.0</td>\n",
       "      <td>5.0</td>\n",
       "    </tr>\n",
       "    <tr>\n",
       "      <td>72967</td>\n",
       "      <td>best</td>\n",
       "      <td>best n strongest and lasts long! the best from the best... cali's best!</td>\n",
       "      <td>5.0</td>\n",
       "      <td>5.0</td>\n",
       "      <td>NaN</td>\n",
       "      <td>5.0</td>\n",
       "    </tr>\n",
       "    <tr>\n",
       "      <td>152418</td>\n",
       "      <td>once again</td>\n",
       "      <td>getting ready to get hooked up by my favorite people</td>\n",
       "      <td>5.0</td>\n",
       "      <td>5.0</td>\n",
       "      <td>NaN</td>\n",
       "      <td>5.0</td>\n",
       "    </tr>\n",
       "    <tr>\n",
       "      <td>99750</td>\n",
       "      <td>great service</td>\n",
       "      <td>i loved the flowers, the service is just as good. i keep coming back.</td>\n",
       "      <td>5.0</td>\n",
       "      <td>5.0</td>\n",
       "      <td>NaN</td>\n",
       "      <td>5.0</td>\n",
       "    </tr>\n",
       "    <tr>\n",
       "      <td>102323</td>\n",
       "      <td>The shop with the most helpful people.</td>\n",
       "      <td>I like it cause it close and they always treat you write. I like this store cause my favorite girl is working there .</td>\n",
       "      <td>5.0</td>\n",
       "      <td>5.0</td>\n",
       "      <td>5.0</td>\n",
       "      <td>5.0</td>\n",
       "    </tr>\n",
       "    <tr>\n",
       "      <td>105894</td>\n",
       "      <td>NaN</td>\n",
       "      <td>NaN</td>\n",
       "      <td>NaN</td>\n",
       "      <td>NaN</td>\n",
       "      <td>NaN</td>\n",
       "      <td>NaN</td>\n",
       "    </tr>\n",
       "    <tr>\n",
       "      <td>69669</td>\n",
       "      <td>New remedy healthcare</td>\n",
       "      <td>I was a first time patient today and everything about it had good vibes a place I definitely know I will return too</td>\n",
       "      <td>5.0</td>\n",
       "      <td>5.0</td>\n",
       "      <td>5.0</td>\n",
       "      <td>5.0</td>\n",
       "    </tr>\n",
       "    <tr>\n",
       "      <td>50103</td>\n",
       "      <td>Great service with a lot of selections!</td>\n",
       "      <td>Awesome service very helpful and knowledgeable. Will definitely be getting my mess from them all the time!</td>\n",
       "      <td>5.0</td>\n",
       "      <td>5.0</td>\n",
       "      <td>NaN</td>\n",
       "      <td>5.0</td>\n",
       "    </tr>\n",
       "    <tr>\n",
       "      <td>147603</td>\n",
       "      <td>Fuego</td>\n",
       "      <td>Fuego it's fire in Spanish to all my Latin people try this dispensary good bud with great service see you there</td>\n",
       "      <td>5.0</td>\n",
       "      <td>5.0</td>\n",
       "      <td>5.0</td>\n",
       "      <td>5.0</td>\n",
       "    </tr>\n",
       "    <tr>\n",
       "      <td>8286</td>\n",
       "      <td>#1 shop in all of oc</td>\n",
       "      <td>never going anywhere else but 420. bomb ogs.  shout out to to girl Nicole!! Christine!! Ivan!! and James!!!!</td>\n",
       "      <td>5.0</td>\n",
       "      <td>5.0</td>\n",
       "      <td>5.0</td>\n",
       "      <td>5.0</td>\n",
       "    </tr>\n",
       "    <tr>\n",
       "      <td>89735</td>\n",
       "      <td>Review</td>\n",
       "      <td>I've been coming here for years only shop I trust in Southern California</td>\n",
       "      <td>5.0</td>\n",
       "      <td>5.0</td>\n",
       "      <td>5.0</td>\n",
       "      <td>5.0</td>\n",
       "    </tr>\n",
       "    <tr>\n",
       "      <td>104678</td>\n",
       "      <td>NaN</td>\n",
       "      <td>NaN</td>\n",
       "      <td>NaN</td>\n",
       "      <td>NaN</td>\n",
       "      <td>NaN</td>\n",
       "      <td>NaN</td>\n",
       "    </tr>\n",
       "    <tr>\n",
       "      <td>92224</td>\n",
       "      <td>Fastest service in town</td>\n",
       "      <td>I am always in and out of the shop very quickly. They have great prices and products.  The staff is exceptionally friendly and knowledgeable. I highly recommend this place.</td>\n",
       "      <td>5.0</td>\n",
       "      <td>5.0</td>\n",
       "      <td>5.0</td>\n",
       "      <td>5.0</td>\n",
       "    </tr>\n",
       "    <tr>\n",
       "      <td>58037</td>\n",
       "      <td>Great shop</td>\n",
       "      <td>1 of the best shops I ever went 2 great meds friendly bud tenders. Very comfortable setting</td>\n",
       "      <td>5.0</td>\n",
       "      <td>5.0</td>\n",
       "      <td>5.0</td>\n",
       "      <td>5.0</td>\n",
       "    </tr>\n",
       "    <tr>\n",
       "      <td>48960</td>\n",
       "      <td>NaN</td>\n",
       "      <td>NaN</td>\n",
       "      <td>NaN</td>\n",
       "      <td>NaN</td>\n",
       "      <td>NaN</td>\n",
       "      <td>NaN</td>\n",
       "    </tr>\n",
       "    <tr>\n",
       "      <td>143437</td>\n",
       "      <td>best spot in town</td>\n",
       "      <td>i found this place about a month back and have been stopping by three to four times a week since. the only place i will go anymore. the staff is great, the meds are top notch and this is the hands down most legit spot you will find.</td>\n",
       "      <td>5.0</td>\n",
       "      <td>5.0</td>\n",
       "      <td>5.0</td>\n",
       "      <td>5.0</td>\n",
       "    </tr>\n",
       "    <tr>\n",
       "      <td>116466</td>\n",
       "      <td>NaN</td>\n",
       "      <td>NaN</td>\n",
       "      <td>NaN</td>\n",
       "      <td>NaN</td>\n",
       "      <td>NaN</td>\n",
       "      <td>NaN</td>\n",
       "    </tr>\n",
       "    <tr>\n",
       "      <td>158080</td>\n",
       "      <td>Good stuff</td>\n",
       "      <td>I ordered a 25$ 1/8th of girls scout and I was just like heck why not give it a try so I did and it was really good for itÃ¢â¬â¢s price . Nice looking nugs and potent and just feels fresh when I inhale and exhale the fumes of trichomes ! Good stuff also they hooked it up with a dub of og kush ! Good stuff ! Give them a try totally worth it .</td>\n",
       "      <td>5.0</td>\n",
       "      <td>5.0</td>\n",
       "      <td>NaN</td>\n",
       "      <td>5.0</td>\n",
       "    </tr>\n",
       "    <tr>\n",
       "      <td>26195</td>\n",
       "      <td>Its</td>\n",
       "      <td>The best place yo go</td>\n",
       "      <td>5.0</td>\n",
       "      <td>5.0</td>\n",
       "      <td>5.0</td>\n",
       "      <td>5.0</td>\n",
       "    </tr>\n",
       "    <tr>\n",
       "      <td>170650</td>\n",
       "      <td>Best clinic ever!!</td>\n",
       "      <td>I love this clinic and I recommend it all theel way! Awesome budtenders! Awesome weed! Awesome everything lol love it</td>\n",
       "      <td>5.0</td>\n",
       "      <td>5.0</td>\n",
       "      <td>5.0</td>\n",
       "      <td>5.0</td>\n",
       "    </tr>\n",
       "    <tr>\n",
       "      <td>65687</td>\n",
       "      <td>The Clinic</td>\n",
       "      <td>I come here a lot and the service the staff provides is great, and the meds are always the highest quality products available. The staff is always knowledgeable and is always a huge help in selecting the right meds. The buds here always have an great bud structure and are always manicured and cured properly. Every order is always to my satisfaction.</td>\n",
       "      <td>5.0</td>\n",
       "      <td>5.0</td>\n",
       "      <td>5.0</td>\n",
       "      <td>5.0</td>\n",
       "    </tr>\n",
       "    <tr>\n",
       "      <td>9107</td>\n",
       "      <td>Much appreciated</td>\n",
       "      <td>The staff is great but I must say Eric goes above and beyond to help me with each different product and I can see he is truly passionate about his work and thank you again for all of your help. I highly recommend Mohave Green</td>\n",
       "      <td>5.0</td>\n",
       "      <td>5.0</td>\n",
       "      <td>5.0</td>\n",
       "      <td>5.0</td>\n",
       "    </tr>\n",
       "  </tbody>\n",
       "</table>\n",
       "</div>"
      ],
      "text/plain": [
       "                                   review_title  \\\n",
       "120997  osides best .                             \n",
       "159595  The love is real                          \n",
       "166481  Local guy                                 \n",
       "107771  The only place I shop                     \n",
       "72967   best                                      \n",
       "152418  once again                                \n",
       "99750   great service                             \n",
       "102323  The shop with the most helpful people.    \n",
       "105894  NaN                                       \n",
       "69669   New remedy healthcare                     \n",
       "50103   Great service with a lot of selections!   \n",
       "147603  Fuego                                     \n",
       "8286    #1 shop in all of oc                      \n",
       "89735   Review                                    \n",
       "104678  NaN                                       \n",
       "92224   Fastest service in town                   \n",
       "58037   Great shop                                \n",
       "48960   NaN                                       \n",
       "143437  best spot in town                         \n",
       "116466  NaN                                       \n",
       "158080  Good stuff                                \n",
       "26195   Its                                       \n",
       "170650  Best clinic ever!!                        \n",
       "65687   The Clinic                                \n",
       "9107    Much appreciated                          \n",
       "\n",
       "                                                                                                                                                                                                                                                                                                                                                            review_body  \\\n",
       "120997  i wont go anywhere else in oside..staff is very cool and they got that fire for a good price..quit playin .call em..                                                                                                                                                                                                                                              \n",
       "159595  Live 2 Love is definitely the best of the best when its come to Oc dispensaries. The coolest and compassionate staff. The meds and deals are always amazing.  You would be doing yourself wrong not to check them out. THAnks for the showing love even when I was ballin on a budget                                                                             \n",
       "166481  I've been to this dispensary a few times now and every time, I'm impressed with the staff, knowledge, product,everything is good. Thanks Keith, your always helpful and super cool. Thanks for providing your services locally. That's SUPER convenient.                                                                                                          \n",
       "107771  Seriously, it takes a killer deal to even get me THINKING of trying another shop. \\nFire bud, amazing prices, and some of the nicest people you'll ever meet! \\nAnd if you aren't getting their TXT deals, you're missing out!                                                                                                                                    \n",
       "72967   best n strongest and lasts long! the best from the best... cali's best!                                                                                                                                                                                                                                                                                           \n",
       "152418  getting ready to get hooked up by my favorite people                                                                                                                                                                                                                                                                                                              \n",
       "99750   i loved the flowers, the service is just as good. i keep coming back.                                                                                                                                                                                                                                                                                             \n",
       "102323  I like it cause it close and they always treat you write. I like this store cause my favorite girl is working there .                                                                                                                                                                                                                                             \n",
       "105894  NaN                                                                                                                                                                                                                                                                                                                                                               \n",
       "69669   I was a first time patient today and everything about it had good vibes a place I definitely know I will return too                                                                                                                                                                                                                                               \n",
       "50103   Awesome service very helpful and knowledgeable. Will definitely be getting my mess from them all the time!                                                                                                                                                                                                                                                        \n",
       "147603  Fuego it's fire in Spanish to all my Latin people try this dispensary good bud with great service see you there                                                                                                                                                                                                                                                   \n",
       "8286    never going anywhere else but 420. bomb ogs.  shout out to to girl Nicole!! Christine!! Ivan!! and James!!!!                                                                                                                                                                                                                                                      \n",
       "89735   I've been coming here for years only shop I trust in Southern California                                                                                                                                                                                                                                                                                          \n",
       "104678  NaN                                                                                                                                                                                                                                                                                                                                                               \n",
       "92224   I am always in and out of the shop very quickly. They have great prices and products.  The staff is exceptionally friendly and knowledgeable. I highly recommend this place.                                                                                                                                                                                      \n",
       "58037   1 of the best shops I ever went 2 great meds friendly bud tenders. Very comfortable setting                                                                                                                                                                                                                                                                       \n",
       "48960   NaN                                                                                                                                                                                                                                                                                                                                                               \n",
       "143437  i found this place about a month back and have been stopping by three to four times a week since. the only place i will go anymore. the staff is great, the meds are top notch and this is the hands down most legit spot you will find.                                                                                                                          \n",
       "116466  NaN                                                                                                                                                                                                                                                                                                                                                               \n",
       "158080  I ordered a 25$ 1/8th of girls scout and I was just like heck why not give it a try so I did and it was really good for itÃ¢â¬â¢s price . Nice looking nugs and potent and just feels fresh when I inhale and exhale the fumes of trichomes ! Good stuff also they hooked it up with a dub of og kush ! Good stuff ! Give them a try totally worth it .         \n",
       "26195   The best place yo go                                                                                                                                                                                                                                                                                                                                              \n",
       "170650  I love this clinic and I recommend it all theel way! Awesome budtenders! Awesome weed! Awesome everything lol love it                                                                                                                                                                                                                                             \n",
       "65687   I come here a lot and the service the staff provides is great, and the meds are always the highest quality products available. The staff is always knowledgeable and is always a huge help in selecting the right meds. The buds here always have an great bud structure and are always manicured and cured properly. Every order is always to my satisfaction.   \n",
       "9107    The staff is great but I must say Eric goes above and beyond to help me with each different product and I can see he is truly passionate about his work and thank you again for all of your help. I highly recommend Mohave Green                                                                                                                                 \n",
       "\n",
       "        rating  staff_rating  atmos_rating  bud_rating  \n",
       "120997  5.0     5.0          NaN            5.0         \n",
       "159595  5.0     5.0           5.0           5.0         \n",
       "166481  5.0     5.0           5.0           5.0         \n",
       "107771  5.0     5.0           5.0           5.0         \n",
       "72967   5.0     5.0          NaN            5.0         \n",
       "152418  5.0     5.0          NaN            5.0         \n",
       "99750   5.0     5.0          NaN            5.0         \n",
       "102323  5.0     5.0           5.0           5.0         \n",
       "105894 NaN     NaN           NaN           NaN          \n",
       "69669   5.0     5.0           5.0           5.0         \n",
       "50103   5.0     5.0          NaN            5.0         \n",
       "147603  5.0     5.0           5.0           5.0         \n",
       "8286    5.0     5.0           5.0           5.0         \n",
       "89735   5.0     5.0           5.0           5.0         \n",
       "104678 NaN     NaN           NaN           NaN          \n",
       "92224   5.0     5.0           5.0           5.0         \n",
       "58037   5.0     5.0           5.0           5.0         \n",
       "48960  NaN     NaN           NaN           NaN          \n",
       "143437  5.0     5.0           5.0           5.0         \n",
       "116466 NaN     NaN           NaN           NaN          \n",
       "158080  5.0     5.0          NaN            5.0         \n",
       "26195   5.0     5.0           5.0           5.0         \n",
       "170650  5.0     5.0           5.0           5.0         \n",
       "65687   5.0     5.0           5.0           5.0         \n",
       "9107    5.0     5.0           5.0           5.0         "
      ]
     },
     "execution_count": 40,
     "metadata": {},
     "output_type": "execute_result"
    }
   ],
   "source": [
    "df[['review_title','review_body','rating','staff_rating','atmos_rating','bud_rating']].sample(25)"
   ]
  },
  {
   "cell_type": "markdown",
   "metadata": {},
   "source": [
    "## 1.Predict Rating"
   ]
  },
  {
   "cell_type": "code",
   "execution_count": 41,
   "metadata": {},
   "outputs": [],
   "source": [
    "rating_df= df[['review_title','review_body','rating']]"
   ]
  },
  {
   "cell_type": "code",
   "execution_count": 42,
   "metadata": {},
   "outputs": [
    {
     "data": {
      "text/html": [
       "<div>\n",
       "<style scoped>\n",
       "    .dataframe tbody tr th:only-of-type {\n",
       "        vertical-align: middle;\n",
       "    }\n",
       "\n",
       "    .dataframe tbody tr th {\n",
       "        vertical-align: top;\n",
       "    }\n",
       "\n",
       "    .dataframe thead th {\n",
       "        text-align: right;\n",
       "    }\n",
       "</style>\n",
       "<table border=\"1\" class=\"dataframe\">\n",
       "  <thead>\n",
       "    <tr style=\"text-align: right;\">\n",
       "      <th></th>\n",
       "      <th>review_title</th>\n",
       "      <th>review_body</th>\n",
       "      <th>rating</th>\n",
       "    </tr>\n",
       "  </thead>\n",
       "  <tbody>\n",
       "    <tr>\n",
       "      <td>0</td>\n",
       "      <td>BEST QUALITY FOR BEAUTIFUL PRICE</td>\n",
       "      <td>Best quality of bud i have ever seen every jar was filled with sticky potent weed not to mention the fire waxes! My new spot fosho</td>\n",
       "      <td>5.0</td>\n",
       "    </tr>\n",
       "    <tr>\n",
       "      <td>1</td>\n",
       "      <td>FTP</td>\n",
       "      <td>Cool shop. Nice meds, prices, and staff.</td>\n",
       "      <td>5.0</td>\n",
       "    </tr>\n",
       "    <tr>\n",
       "      <td>2</td>\n",
       "      <td>great place</td>\n",
       "      <td>good product great staff friendly atmosphere</td>\n",
       "      <td>5.0</td>\n",
       "    </tr>\n",
       "    <tr>\n",
       "      <td>3</td>\n",
       "      <td>OC HOTBOX GOT ð¥</td>\n",
       "      <td>Bomb meds and staff, headed to the hot box now and so should you!</td>\n",
       "      <td>5.0</td>\n",
       "    </tr>\n",
       "    <tr>\n",
       "      <td>4</td>\n",
       "      <td>Great place.</td>\n",
       "      <td>1st time client. Easy location, great atmosphere. The staff was pleasant and I worked with Tyler who was very knowledgable about his products. I felt comfortable purchasing, definitely will return.</td>\n",
       "      <td>5.0</td>\n",
       "    </tr>\n",
       "  </tbody>\n",
       "</table>\n",
       "</div>"
      ],
      "text/plain": [
       "                       review_title  \\\n",
       "0  BEST QUALITY FOR BEAUTIFUL PRICE   \n",
       "1  FTP                                \n",
       "2  great place                        \n",
       "3  OC HOTBOX GOT ð¥                 \n",
       "4  Great place.                       \n",
       "\n",
       "                                                                                                                                                                                             review_body  \\\n",
       "0  Best quality of bud i have ever seen every jar was filled with sticky potent weed not to mention the fire waxes! My new spot fosho                                                                      \n",
       "1  Cool shop. Nice meds, prices, and staff.                                                                                                                                                                \n",
       "2  good product great staff friendly atmosphere                                                                                                                                                            \n",
       "3  Bomb meds and staff, headed to the hot box now and so should you!                                                                                                                                       \n",
       "4  1st time client. Easy location, great atmosphere. The staff was pleasant and I worked with Tyler who was very knowledgable about his products. I felt comfortable purchasing, definitely will return.   \n",
       "\n",
       "   rating  \n",
       "0  5.0     \n",
       "1  5.0     \n",
       "2  5.0     \n",
       "3  5.0     \n",
       "4  5.0     "
      ]
     },
     "execution_count": 42,
     "metadata": {},
     "output_type": "execute_result"
    }
   ],
   "source": [
    "rating_df.head()"
   ]
  },
  {
   "cell_type": "markdown",
   "metadata": {},
   "source": [
    "#### Checking null values"
   ]
  },
  {
   "cell_type": "code",
   "execution_count": 43,
   "metadata": {},
   "outputs": [
    {
     "data": {
      "text/plain": [
       "True"
      ]
     },
     "execution_count": 43,
     "metadata": {},
     "output_type": "execute_result"
    }
   ],
   "source": [
    "rating_df.isnull().values.any()"
   ]
  },
  {
   "cell_type": "code",
   "execution_count": 44,
   "metadata": {},
   "outputs": [
    {
     "data": {
      "text/plain": [
       "(173101, 3)"
      ]
     },
     "execution_count": 44,
     "metadata": {},
     "output_type": "execute_result"
    }
   ],
   "source": [
    "rating_df.shape"
   ]
  },
  {
   "cell_type": "code",
   "execution_count": 45,
   "metadata": {},
   "outputs": [],
   "source": [
    "rating_df = rating_df.dropna()\n",
    "rating_df.reset_index(inplace=True,drop=True)"
   ]
  },
  {
   "cell_type": "code",
   "execution_count": 46,
   "metadata": {},
   "outputs": [
    {
     "data": {
      "text/plain": [
       "(161131, 3)"
      ]
     },
     "execution_count": 46,
     "metadata": {},
     "output_type": "execute_result"
    }
   ],
   "source": [
    "rating_df.shape"
   ]
  },
  {
   "cell_type": "code",
   "execution_count": 47,
   "metadata": {},
   "outputs": [
    {
     "data": {
      "text/plain": [
       "False"
      ]
     },
     "execution_count": 47,
     "metadata": {},
     "output_type": "execute_result"
    }
   ],
   "source": [
    "rating_df.isnull().values.any()"
   ]
  },
  {
   "cell_type": "markdown",
   "metadata": {},
   "source": [
    "#### Cleaning Data - Normalization, Stemming, Lematization"
   ]
  },
  {
   "cell_type": "code",
   "execution_count": 48,
   "metadata": {},
   "outputs": [],
   "source": [
    "rating_df['review'] =  rating_df['review_title'] + ' ' + rating_df['review_body']\n",
    "rating_df = rating_df[['review','rating']]"
   ]
  },
  {
   "cell_type": "code",
   "execution_count": 75,
   "metadata": {},
   "outputs": [],
   "source": [
    "def stemSentence(sentence):\n",
    "    if sentence.strip() == '':\n",
    "        return ''\n",
    "    porter = PorterStemmer()\n",
    "    token_words=word_tokenize(sentence)\n",
    "    token_words\n",
    "    stem_sentence=[]\n",
    "    for word in token_words:\n",
    "        if word in set(stopwords.words('english')):\n",
    "            continue\n",
    "        stem_sentence.append(porter.stem(word))\n",
    "        stem_sentence.append(\" \")\n",
    "    return \"\".join(stem_sentence)"
   ]
  },
  {
   "cell_type": "code",
   "execution_count": 50,
   "metadata": {},
   "outputs": [],
   "source": [
    "def lematizeSentence(sentence):\n",
    "    if sentence.strip() == '':\n",
    "        return ''\n",
    "    lmtzr = WordNetLemmatizer()\n",
    "    token_words=word_tokenize(sentence)\n",
    "    token_words\n",
    "    lematize_sentence=[]\n",
    "    for word in token_words:\n",
    "        lematize_sentence.append(lmtzr.lemmatize(word))\n",
    "        lematize_sentence.append(\" \")\n",
    "    return \"\".join(lematize_sentence)"
   ]
  },
  {
   "cell_type": "code",
   "execution_count": 77,
   "metadata": {},
   "outputs": [],
   "source": [
    "for index,row in rating_df.iterrows():\n",
    "    rating_df.at[index,'review'] = ''.join([char.lower() if (65 <= ord(char) <= 90\\\n",
    "                                                  or 97 <= ord(char) <= 122 or ord(char) == 32)\\\n",
    "                                                  else '' for char in row['review']])\n",
    "    rating_df.at[index,'review'] = stemSentence(rating_df.at[index,'review'])\n",
    "    rating_df.at[index,'review'] = lematizeSentence(rating_df.at[index,'review'])"
   ]
  },
  {
   "cell_type": "code",
   "execution_count": 78,
   "metadata": {},
   "outputs": [],
   "source": [
    "rating_df['review'].replace('',np.nan,inplace=True)"
   ]
  },
  {
   "cell_type": "code",
   "execution_count": 79,
   "metadata": {},
   "outputs": [
    {
     "data": {
      "text/plain": [
       "True"
      ]
     },
     "execution_count": 79,
     "metadata": {},
     "output_type": "execute_result"
    }
   ],
   "source": [
    "rating_df.isnull().values.any()"
   ]
  },
  {
   "cell_type": "code",
   "execution_count": 80,
   "metadata": {},
   "outputs": [],
   "source": [
    "rating_df.dropna(inplace=True)\n",
    "rating_df.reset_index(inplace=True,drop=True)"
   ]
  },
  {
   "cell_type": "code",
   "execution_count": 81,
   "metadata": {},
   "outputs": [
    {
     "data": {
      "text/plain": [
       "(161013, 2)"
      ]
     },
     "execution_count": 81,
     "metadata": {},
     "output_type": "execute_result"
    }
   ],
   "source": [
    "rating_df.shape"
   ]
  },
  {
   "cell_type": "code",
   "execution_count": 82,
   "metadata": {},
   "outputs": [
    {
     "data": {
      "text/html": [
       "<div>\n",
       "<style scoped>\n",
       "    .dataframe tbody tr th:only-of-type {\n",
       "        vertical-align: middle;\n",
       "    }\n",
       "\n",
       "    .dataframe tbody tr th {\n",
       "        vertical-align: top;\n",
       "    }\n",
       "\n",
       "    .dataframe thead th {\n",
       "        text-align: right;\n",
       "    }\n",
       "</style>\n",
       "<table border=\"1\" class=\"dataframe\">\n",
       "  <thead>\n",
       "    <tr style=\"text-align: right;\">\n",
       "      <th></th>\n",
       "      <th>review</th>\n",
       "      <th>rating</th>\n",
       "    </tr>\n",
       "  </thead>\n",
       "  <tbody>\n",
       "    <tr>\n",
       "      <td>0</td>\n",
       "      <td>best qualiti beauti price best qualiti bud ever seen everi jar wa fill sticki potent weed mention fire wax new spot fosho</td>\n",
       "      <td>5</td>\n",
       "    </tr>\n",
       "    <tr>\n",
       "      <td>1</td>\n",
       "      <td>ftp cool shop nice med price staff</td>\n",
       "      <td>5</td>\n",
       "    </tr>\n",
       "    <tr>\n",
       "      <td>2</td>\n",
       "      <td>great place good product great staff friendli atmosph</td>\n",
       "      <td>5</td>\n",
       "    </tr>\n",
       "    <tr>\n",
       "      <td>3</td>\n",
       "      <td>oc hotbox got bomb med staff head hot box</td>\n",
       "      <td>5</td>\n",
       "    </tr>\n",
       "    <tr>\n",
       "      <td>4</td>\n",
       "      <td>great place st time client easi locat great atmosph staff wa pleasant work tyler wa veri knowledg hi product felt comfort purcha definit return</td>\n",
       "      <td>5</td>\n",
       "    </tr>\n",
       "  </tbody>\n",
       "</table>\n",
       "</div>"
      ],
      "text/plain": [
       "                                                                                                                                             review  \\\n",
       "0  best qualiti beauti price best qualiti bud ever seen everi jar wa fill sticki potent weed mention fire wax new spot fosho                          \n",
       "1  ftp cool shop nice med price staff                                                                                                                 \n",
       "2  great place good product great staff friendli atmosph                                                                                              \n",
       "3  oc hotbox got bomb med staff head hot box                                                                                                          \n",
       "4  great place st time client easi locat great atmosph staff wa pleasant work tyler wa veri knowledg hi product felt comfort purcha definit return    \n",
       "\n",
       "   rating  \n",
       "0  5       \n",
       "1  5       \n",
       "2  5       \n",
       "3  5       \n",
       "4  5       "
      ]
     },
     "execution_count": 82,
     "metadata": {},
     "output_type": "execute_result"
    }
   ],
   "source": [
    "rating_df.head()"
   ]
  },
  {
   "cell_type": "markdown",
   "metadata": {},
   "source": [
    "#### Generating Features"
   ]
  },
  {
   "cell_type": "code",
   "execution_count": 83,
   "metadata": {},
   "outputs": [
    {
     "data": {
      "text/html": [
       "<div>\n",
       "<style scoped>\n",
       "    .dataframe tbody tr th:only-of-type {\n",
       "        vertical-align: middle;\n",
       "    }\n",
       "\n",
       "    .dataframe tbody tr th {\n",
       "        vertical-align: top;\n",
       "    }\n",
       "\n",
       "    .dataframe thead th {\n",
       "        text-align: right;\n",
       "    }\n",
       "</style>\n",
       "<table border=\"1\" class=\"dataframe\">\n",
       "  <thead>\n",
       "    <tr style=\"text-align: right;\">\n",
       "      <th></th>\n",
       "      <th>review</th>\n",
       "      <th>rating</th>\n",
       "    </tr>\n",
       "  </thead>\n",
       "  <tbody>\n",
       "    <tr>\n",
       "      <td>0</td>\n",
       "      <td>best qualiti beauti price best qualiti bud ever seen everi jar wa fill sticki potent weed mention fire wax new spot fosho</td>\n",
       "      <td>5</td>\n",
       "    </tr>\n",
       "    <tr>\n",
       "      <td>1</td>\n",
       "      <td>ftp cool shop nice med price staff</td>\n",
       "      <td>5</td>\n",
       "    </tr>\n",
       "    <tr>\n",
       "      <td>2</td>\n",
       "      <td>great place good product great staff friendli atmosph</td>\n",
       "      <td>5</td>\n",
       "    </tr>\n",
       "    <tr>\n",
       "      <td>3</td>\n",
       "      <td>oc hotbox got bomb med staff head hot box</td>\n",
       "      <td>5</td>\n",
       "    </tr>\n",
       "    <tr>\n",
       "      <td>4</td>\n",
       "      <td>great place st time client easi locat great atmosph staff wa pleasant work tyler wa veri knowledg hi product felt comfort purcha definit return</td>\n",
       "      <td>5</td>\n",
       "    </tr>\n",
       "  </tbody>\n",
       "</table>\n",
       "</div>"
      ],
      "text/plain": [
       "                                                                                                                                             review  \\\n",
       "0  best qualiti beauti price best qualiti bud ever seen everi jar wa fill sticki potent weed mention fire wax new spot fosho                          \n",
       "1  ftp cool shop nice med price staff                                                                                                                 \n",
       "2  great place good product great staff friendli atmosph                                                                                              \n",
       "3  oc hotbox got bomb med staff head hot box                                                                                                          \n",
       "4  great place st time client easi locat great atmosph staff wa pleasant work tyler wa veri knowledg hi product felt comfort purcha definit return    \n",
       "\n",
       "   rating  \n",
       "0  5       \n",
       "1  5       \n",
       "2  5       \n",
       "3  5       \n",
       "4  5       "
      ]
     },
     "execution_count": 83,
     "metadata": {},
     "output_type": "execute_result"
    }
   ],
   "source": [
    "rating_df.head()"
   ]
  },
  {
   "cell_type": "code",
   "execution_count": 84,
   "metadata": {},
   "outputs": [],
   "source": [
    "vect = TfidfVectorizer(input='content',stop_words='english',analyzer='word', ngram_range=(1,2),\n",
    "                     min_df = 0, sublinear_tf=True)\n",
    "X = vect.fit_transform(rating_df.review)\n"
   ]
  },
  {
   "cell_type": "code",
   "execution_count": 85,
   "metadata": {},
   "outputs": [
    {
     "name": "stdout",
     "output_type": "stream",
     "text": [
      "(161013, 736170)\n"
     ]
    }
   ],
   "source": [
    "print(X.shape)"
   ]
  },
  {
   "cell_type": "code",
   "execution_count": 86,
   "metadata": {},
   "outputs": [],
   "source": [
    "rating_df['rating'] = [int(round(i)) for i in rating_df.rating]"
   ]
  },
  {
   "cell_type": "code",
   "execution_count": 87,
   "metadata": {},
   "outputs": [
    {
     "data": {
      "text/plain": [
       "5    0.927962\n",
       "4    0.032991\n",
       "1    0.014955\n",
       "3    0.014738\n",
       "2    0.009291\n",
       "0    0.000062\n",
       "Name: rating, dtype: float64"
      ]
     },
     "execution_count": 87,
     "metadata": {},
     "output_type": "execute_result"
    }
   ],
   "source": [
    "rating_df['rating'].value_counts(normalize=True)"
   ]
  },
  {
   "cell_type": "markdown",
   "metadata": {},
   "source": [
    "#### Modelling"
   ]
  },
  {
   "cell_type": "code",
   "execution_count": 88,
   "metadata": {},
   "outputs": [],
   "source": [
    "x_train, x_test, y_train, y_test = train_test_split(X, rating_df.rating, test_size=0.25, random_state = 7)\n",
    "clf = RandomForestClassifier(n_estimators=10, random_state=7)"
   ]
  },
  {
   "cell_type": "code",
   "execution_count": 89,
   "metadata": {},
   "outputs": [
    {
     "data": {
      "text/plain": [
       "RandomForestClassifier(bootstrap=True, class_weight=None, criterion='gini',\n",
       "                       max_depth=None, max_features='auto', max_leaf_nodes=None,\n",
       "                       min_impurity_decrease=0.0, min_impurity_split=None,\n",
       "                       min_samples_leaf=1, min_samples_split=2,\n",
       "                       min_weight_fraction_leaf=0.0, n_estimators=10,\n",
       "                       n_jobs=None, oob_score=False, random_state=7, verbose=0,\n",
       "                       warm_start=False)"
      ]
     },
     "execution_count": 89,
     "metadata": {},
     "output_type": "execute_result"
    }
   ],
   "source": [
    "clf.fit(x_train,y_train )"
   ]
  },
  {
   "cell_type": "markdown",
   "metadata": {},
   "source": [
    "#### Evaluation"
   ]
  },
  {
   "cell_type": "code",
   "execution_count": 90,
   "metadata": {},
   "outputs": [
    {
     "name": "stdout",
     "output_type": "stream",
     "text": [
      "0.9308391712624833\n"
     ]
    }
   ],
   "source": [
    "pred = clf.predict(x_test)\n",
    "print(accuracy_score(y_test, pred))"
   ]
  },
  {
   "cell_type": "code",
   "execution_count": 91,
   "metadata": {},
   "outputs": [],
   "source": [
    "conf_mat = confusion_matrix(y_test, pred)"
   ]
  },
  {
   "cell_type": "code",
   "execution_count": 92,
   "metadata": {},
   "outputs": [
    {
     "data": {
      "text/plain": [
       "array([[    0,     0,     0,     0,     0,     1],\n",
       "       [    0,    46,     0,     5,     1,   545],\n",
       "       [    0,    13,     2,     2,     2,   352],\n",
       "       [    0,    11,     2,     4,     2,   530],\n",
       "       [    0,     4,     1,     3,    10,  1281],\n",
       "       [    0,    15,     2,     3,     9, 37408]], dtype=int64)"
      ]
     },
     "execution_count": 92,
     "metadata": {},
     "output_type": "execute_result"
    }
   ],
   "source": [
    "conf_mat"
   ]
  },
  {
   "cell_type": "markdown",
   "metadata": {},
   "source": [
    "#### Printing features of the first row with tfidf score"
   ]
  },
  {
   "cell_type": "code",
   "execution_count": 93,
   "metadata": {},
   "outputs": [
    {
     "name": "stdout",
     "output_type": "stream",
     "text": [
      "best 0.07970410879633755\n",
      "qualiti 0.11397090557960086\n",
      "beauti 0.11995979319184388\n",
      "price 0.05871159001958856\n",
      "bud 0.054714256448256886\n",
      "seen 0.1212934897631402\n",
      "everi 0.09284001961073453\n",
      "jar 0.14034718045530062\n",
      "wa 0.06275798032240881\n",
      "sticki 0.14098232277653636\n",
      "potent 0.12784855019374938\n",
      "weed 0.08046050554007003\n",
      "mention 0.1277013948637019\n",
      "wax 0.09287283568798532\n",
      "new 0.0877718013157464\n",
      "spot 0.07442126609944962\n",
      "fosho 0.2041765918769364\n",
      "best qualiti 0.21355428940759535\n",
      "qualiti beauti 0.2382772847157027\n",
      "beauti price 0.23285478220801328\n",
      "price best 0.1351084658274313\n",
      "qualiti bud 0.1131714647463518\n",
      "bud seen 0.20687718277090517\n",
      "seen everi 0.24553720034938464\n",
      "everi jar 0.21356926124807063\n",
      "jar wa 0.20482071632553417\n",
      "wa sticki 0.21356926124807063\n",
      "sticki potent 0.2382772847157027\n",
      "potent weed 0.22852499757604214\n",
      "weed mention 0.24160332713054977\n",
      "mention wax 0.2353961357251147\n",
      "wax new 0.23285478220801328\n",
      "new spot 0.13777291073557857\n",
      "spot fosho 0.2653076083810577\n"
     ]
    }
   ],
   "source": [
    "feature_names = vect.get_feature_names()\n",
    "doc = 0\n",
    "feature_index = X[doc,:].nonzero()[1]\n",
    "tfidf_scores = zip(feature_index, [X[doc, x] for x in feature_index])\n",
    "for w, s in [(feature_names[i], s) for (i, s) in tfidf_scores]:\n",
    "    print(w, s)"
   ]
  },
  {
   "cell_type": "markdown",
   "metadata": {},
   "source": [
    "#### Extracting features based on Count "
   ]
  },
  {
   "cell_type": "code",
   "execution_count": 94,
   "metadata": {},
   "outputs": [
    {
     "data": {
      "text/plain": [
       "87425     best la love custom servic bud chain sell fat great price u get u pay shout bud tender                                                             \n",
       "83169     chocol tai updat high order arriv smoke metal pipe im high                                                                                         \n",
       "120951    veri nice great success awesom dispensari friendli knowledg staff veri help tri sell cost got want need ill return sure                            \n",
       "25395     best town great bud best staff town                                                                                                                \n",
       "55141     blackberri kush omg wa yummi alway fan kush strain thi one disappoint earthi tast super relax high great anxieti heavi function function permagrin \n",
       "30794     meca best ask eddi never receiv better servic clinic thi shop best place stop dank weed good servic                                                \n",
       "81252     best spot got ta come check best spot town great tender deal                                                                                       \n",
       "83330     favorit spot best select qualiti flower                                                                                                            \n",
       "9430      clutch ive mani shop around oc area one like thi custom servic alway super help quick definit recommend thi spot anyon look dope dispensari        \n",
       "18057     alway fire came fire                                                                                                                               \n",
       "Name: review, dtype: object"
      ]
     },
     "execution_count": 94,
     "metadata": {},
     "output_type": "execute_result"
    }
   ],
   "source": [
    "rating_df.where(rating_df.rating >= 4)['review'].sample(10)"
   ]
  },
  {
   "cell_type": "code",
   "execution_count": 101,
   "metadata": {},
   "outputs": [
    {
     "data": {
      "text/html": [
       "<div>\n",
       "<style scoped>\n",
       "    .dataframe tbody tr th:only-of-type {\n",
       "        vertical-align: middle;\n",
       "    }\n",
       "\n",
       "    .dataframe tbody tr th {\n",
       "        vertical-align: top;\n",
       "    }\n",
       "\n",
       "    .dataframe thead th {\n",
       "        text-align: right;\n",
       "    }\n",
       "</style>\n",
       "<table border=\"1\" class=\"dataframe\">\n",
       "  <thead>\n",
       "    <tr style=\"text-align: right;\">\n",
       "      <th></th>\n",
       "      <th>review</th>\n",
       "      <th>rating</th>\n",
       "    </tr>\n",
       "  </thead>\n",
       "  <tbody>\n",
       "    <tr>\n",
       "      <td>0</td>\n",
       "      <td>best qualiti beauti price best qualiti bud ever seen everi jar wa fill sticki potent weed mention fire wax new spot fosho</td>\n",
       "      <td>5.0</td>\n",
       "    </tr>\n",
       "    <tr>\n",
       "      <td>1</td>\n",
       "      <td>ftp cool shop nice med price staff</td>\n",
       "      <td>5.0</td>\n",
       "    </tr>\n",
       "    <tr>\n",
       "      <td>2</td>\n",
       "      <td>great place good product great staff friendli atmosph</td>\n",
       "      <td>5.0</td>\n",
       "    </tr>\n",
       "    <tr>\n",
       "      <td>3</td>\n",
       "      <td>oc hotbox got bomb med staff head hot box</td>\n",
       "      <td>5.0</td>\n",
       "    </tr>\n",
       "    <tr>\n",
       "      <td>4</td>\n",
       "      <td>great place st time client easi locat great atmosph staff wa pleasant work tyler wa veri knowledg hi product felt comfort purcha definit return</td>\n",
       "      <td>5.0</td>\n",
       "    </tr>\n",
       "    <tr>\n",
       "      <td>...</td>\n",
       "      <td>...</td>\n",
       "      <td>...</td>\n",
       "    </tr>\n",
       "    <tr>\n",
       "      <td>161008</td>\n",
       "      <td>could live would favorit place best flower edibl</td>\n",
       "      <td>5.0</td>\n",
       "    </tr>\n",
       "    <tr>\n",
       "      <td>161009</td>\n",
       "      <td>great bud even better servic bomb weedtea fast servic get alway brand new bomb bud tri</td>\n",
       "      <td>5.0</td>\n",
       "    </tr>\n",
       "    <tr>\n",
       "      <td>161010</td>\n",
       "      <td>rambo purcha last week wa bomb guy courtesi profess</td>\n",
       "      <td>5.0</td>\n",
       "    </tr>\n",
       "    <tr>\n",
       "      <td>161011</td>\n",
       "      <td>best bud tri fast friendli first time today wa realli impress great select flower realli good prize receiv nice gift free gram top shelf edibl candi lighter st time patient realli like reward program definit buy</td>\n",
       "      <td>5.0</td>\n",
       "    </tr>\n",
       "    <tr>\n",
       "      <td>161012</td>\n",
       "      <td>better rate onli complaint dont menu weedmap help becom access qualiti mid heavi hit topshelf clone seedl avail niceid say stuff root earthi white</td>\n",
       "      <td>5.0</td>\n",
       "    </tr>\n",
       "  </tbody>\n",
       "</table>\n",
       "<p>161013 rows × 2 columns</p>\n",
       "</div>"
      ],
      "text/plain": [
       "                                                                                                                                                                                                                      review  \\\n",
       "0       best qualiti beauti price best qualiti bud ever seen everi jar wa fill sticki potent weed mention fire wax new spot fosho                                                                                              \n",
       "1       ftp cool shop nice med price staff                                                                                                                                                                                     \n",
       "2       great place good product great staff friendli atmosph                                                                                                                                                                  \n",
       "3       oc hotbox got bomb med staff head hot box                                                                                                                                                                              \n",
       "4       great place st time client easi locat great atmosph staff wa pleasant work tyler wa veri knowledg hi product felt comfort purcha definit return                                                                        \n",
       "...                                                                                                                                                  ...                                                                       \n",
       "161008  could live would favorit place best flower edibl                                                                                                                                                                       \n",
       "161009  great bud even better servic bomb weedtea fast servic get alway brand new bomb bud tri                                                                                                                                 \n",
       "161010  rambo purcha last week wa bomb guy courtesi profess                                                                                                                                                                    \n",
       "161011  best bud tri fast friendli first time today wa realli impress great select flower realli good prize receiv nice gift free gram top shelf edibl candi lighter st time patient realli like reward program definit buy    \n",
       "161012  better rate onli complaint dont menu weedmap help becom access qualiti mid heavi hit topshelf clone seedl avail niceid say stuff root earthi white                                                                     \n",
       "\n",
       "        rating  \n",
       "0       5.0     \n",
       "1       5.0     \n",
       "2       5.0     \n",
       "3       5.0     \n",
       "4       5.0     \n",
       "...     ...     \n",
       "161008  5.0     \n",
       "161009  5.0     \n",
       "161010  5.0     \n",
       "161011  5.0     \n",
       "161012  5.0     \n",
       "\n",
       "[161013 rows x 2 columns]"
      ]
     },
     "execution_count": 101,
     "metadata": {},
     "output_type": "execute_result"
    }
   ],
   "source": [
    "rating_df.where(rating_df.rating >= 4)"
   ]
  },
  {
   "cell_type": "code",
   "execution_count": 108,
   "metadata": {},
   "outputs": [],
   "source": [
    "counts = Counter()\n",
    "for index,row in rating_df.where(rating_df.rating >= 4).iterrows():\n",
    "    if type(row.review) == str:\n",
    "        counts.update(row.review.split(' '))"
   ]
  },
  {
   "cell_type": "code",
   "execution_count": 109,
   "metadata": {},
   "outputs": [
    {
     "data": {
      "text/plain": [
       "[('', 154726),\n",
       " ('great', 81386),\n",
       " ('best', 66237),\n",
       " ('thi', 49912),\n",
       " ('good', 41114),\n",
       " ('place', 40858),\n",
       " ('bud', 39494),\n",
       " ('wa', 37095),\n",
       " ('servic', 36778),\n",
       " ('alway', 36559),\n",
       " ('staff', 31776),\n",
       " ('love', 30679),\n",
       " ('shop', 30374),\n",
       " ('price', 30250),\n",
       " ('veri', 25762),\n",
       " ('time', 24940),\n",
       " ('go', 22481),\n",
       " ('deal', 21674),\n",
       " ('qualiti', 21043),\n",
       " ('come', 20417),\n",
       " ('friendli', 20041),\n",
       " ('awesom', 18043),\n",
       " ('get', 17642),\n",
       " ('help', 15907),\n",
       " ('got', 15829),\n",
       " ('flower', 15754),\n",
       " ('thank', 15633),\n",
       " ('spot', 15593),\n",
       " ('deliveri', 15307),\n",
       " ('product', 15009),\n",
       " ('guy', 14537),\n",
       " ('fire', 14411),\n",
       " ('nice', 14380),\n",
       " ('med', 13831),\n",
       " ('back', 13575),\n",
       " ('recommend', 13119),\n",
       " ('amaz', 12878),\n",
       " ('select', 12394),\n",
       " ('one', 11944),\n",
       " ('like', 11921),\n",
       " ('realli', 11514),\n",
       " ('first', 11503),\n",
       " ('bomb', 11255),\n",
       " ('dispensari', 11190),\n",
       " ('custom', 11111),\n",
       " ('weed', 11032),\n",
       " ('ha', 10539),\n",
       " ('super', 10412),\n",
       " ('ive', 10195),\n",
       " ('top', 10058)]"
      ]
     },
     "execution_count": 109,
     "metadata": {},
     "output_type": "execute_result"
    }
   ],
   "source": [
    "counts.most_common(50)"
   ]
  },
  {
   "cell_type": "code",
   "execution_count": 111,
   "metadata": {},
   "outputs": [],
   "source": [
    "negative_counts = Counter()\n",
    "for index,row in rating_df.where(rating_df.rating <= 2).iterrows():\n",
    "    if type(row.review) == str:\n",
    "        negative_counts.update(row.review.split(' '))"
   ]
  },
  {
   "cell_type": "code",
   "execution_count": 112,
   "metadata": {},
   "outputs": [
    {
     "data": {
      "text/plain": [
       "[('', 3914),\n",
       " ('wa', 3794),\n",
       " ('thi', 2963),\n",
       " ('time', 1829),\n",
       " ('get', 1621),\n",
       " ('place', 1576),\n",
       " ('like', 1432),\n",
       " ('dont', 1383),\n",
       " ('go', 1327),\n",
       " ('bud', 1200),\n",
       " ('price', 1116),\n",
       " ('order', 990),\n",
       " ('back', 978),\n",
       " ('got', 969),\n",
       " ('even', 925),\n",
       " ('call', 906),\n",
       " ('servic', 897),\n",
       " ('never', 879),\n",
       " ('good', 865),\n",
       " ('one', 796),\n",
       " ('weed', 775),\n",
       " ('would', 761),\n",
       " ('custom', 756),\n",
       " ('look', 754),\n",
       " ('onli', 751),\n",
       " ('patient', 731),\n",
       " ('tri', 729),\n",
       " ('veri', 718),\n",
       " ('first', 704),\n",
       " ('im', 701),\n",
       " ('come', 698),\n",
       " ('shop', 688),\n",
       " ('guy', 676),\n",
       " ('gram', 675),\n",
       " ('ask', 663),\n",
       " ('know', 653),\n",
       " ('didnt', 648),\n",
       " ('qualiti', 633),\n",
       " ('staff', 618),\n",
       " ('becau', 610),\n",
       " ('product', 608),\n",
       " ('told', 601),\n",
       " ('said', 586),\n",
       " ('review', 585),\n",
       " ('say', 583),\n",
       " ('bad', 582),\n",
       " ('want', 575),\n",
       " ('peopl', 563),\n",
       " ('wait', 533),\n",
       " ('give', 524)]"
      ]
     },
     "execution_count": 112,
     "metadata": {},
     "output_type": "execute_result"
    }
   ],
   "source": [
    "negative_counts.most_common(50)"
   ]
  },
  {
   "cell_type": "markdown",
   "metadata": {},
   "source": [
    "#### Extracting n-grams count"
   ]
  },
  {
   "cell_type": "code",
   "execution_count": 115,
   "metadata": {},
   "outputs": [],
   "source": [
    "bigrams_counts = Counter()\n",
    "trigrams_counts = Counter()\n",
    "for index,row in rating_df.where(rating_df.rating >= 4).iterrows():\n",
    "    if type(row.review) == str:\n",
    "        token = nltk.word_tokenize(row.review)\n",
    "        bigrams = ngrams(token,2)\n",
    "        trigrams = ngrams(token,3)\n",
    "        bigrams_counts.update(bigrams)\n",
    "        trigrams_counts.update(trigrams)\n"
   ]
  },
  {
   "cell_type": "code",
   "execution_count": 116,
   "metadata": {},
   "outputs": [
    {
     "data": {
      "text/plain": [
       "[(('thi', 'place'), 18803),\n",
       " (('love', 'thi'), 8934),\n",
       " (('custom', 'servic'), 7507),\n",
       " (('best', 'shop'), 7377),\n",
       " (('great', 'servic'), 7282),\n",
       " (('first', 'time'), 6712),\n",
       " (('great', 'price'), 6411),\n",
       " (('thi', 'shop'), 5704),\n",
       " (('best', 'bud'), 5389),\n",
       " (('great', 'bud'), 5060),\n",
       " (('great', 'deal'), 4752),\n",
       " (('bud', 'tender'), 4683),\n",
       " (('deliveri', 'servic'), 4668),\n",
       " (('great', 'place'), 4572),\n",
       " (('come', 'back'), 4545),\n",
       " (('friendli', 'staff'), 4177),\n",
       " (('highli', 'recommend'), 4146),\n",
       " (('great', 'staff'), 4049),\n",
       " (('good', 'price'), 3809),\n",
       " (('best', 'place'), 3656)]"
      ]
     },
     "execution_count": 116,
     "metadata": {},
     "output_type": "execute_result"
    }
   ],
   "source": [
    "bigrams_counts.most_common(20)"
   ]
  },
  {
   "cell_type": "code",
   "execution_count": 117,
   "metadata": {},
   "outputs": [
    {
     "data": {
      "text/plain": [
       "[(('love', 'thi', 'place'), 5766),\n",
       " (('great', 'custom', 'servic'), 2459),\n",
       " (('first', 'time', 'patient'), 1562),\n",
       " (('love', 'thi', 'shop'), 1386),\n",
       " (('thi', 'place', 'ha'), 1374),\n",
       " (('go', 'anywh', 'el'), 1336),\n",
       " (('thi', 'place', 'great'), 1093),\n",
       " (('recommend', 'thi', 'place'), 1065),\n",
       " (('great', 'servic', 'great'), 1043),\n",
       " (('great', 'bud', 'great'), 1040),\n",
       " (('best', 'deliveri', 'servic'), 998),\n",
       " (('definit', 'come', 'back'), 985),\n",
       " (('cant', 'go', 'wrong'), 934),\n",
       " (('best', 'shop', 'town'), 885),\n",
       " (('keep', 'come', 'back'), 874),\n",
       " (('best', 'shop', 'around'), 809),\n",
       " (('great', 'price', 'great'), 805),\n",
       " (('bud', 'great', 'price'), 794),\n",
       " (('thi', 'place', 'best'), 789),\n",
       " (('highli', 'recommend', 'thi'), 762)]"
      ]
     },
     "execution_count": 117,
     "metadata": {},
     "output_type": "execute_result"
    }
   ],
   "source": [
    "trigrams_counts.most_common(20)"
   ]
  },
  {
   "cell_type": "code",
   "execution_count": 120,
   "metadata": {},
   "outputs": [],
   "source": [
    "neg_bigrams_counts = Counter()\n",
    "neg_trigrams_counts = Counter()\n",
    "for index,row in rating_df.where(rating_df.rating <= 2).iterrows():\n",
    "    if type(row.review) == str:\n",
    "        token = nltk.word_tokenize(row.review)\n",
    "        neg_bigrams = ngrams(token,2)\n",
    "        neg_trigrams = ngrams(token,3)\n",
    "        neg_bigrams_counts.update(neg_bigrams)\n",
    "        neg_trigrams_counts.update(neg_trigrams)\n"
   ]
  },
  {
   "cell_type": "code",
   "execution_count": 121,
   "metadata": {},
   "outputs": [
    {
     "data": {
      "text/plain": [
       "[(('thi', 'place'), 919),\n",
       " (('first', 'time'), 362),\n",
       " (('custom', 'servic'), 324),\n",
       " (('wast', 'time'), 234),\n",
       " (('top', 'shelf'), 198),\n",
       " (('go', 'back'), 192),\n",
       " (('come', 'back'), 184),\n",
       " (('wa', 'told'), 178),\n",
       " (('bud', 'tender'), 175),\n",
       " (('thi', 'shop'), 160),\n",
       " (('dont', 'know'), 138),\n",
       " (('time', 'patient'), 137),\n",
       " (('look', 'like'), 129),\n",
       " (('dont', 'wast'), 120),\n",
       " (('call', 'back'), 117),\n",
       " (('wa', 'veri'), 115),\n",
       " (('deliveri', 'servic'), 108),\n",
       " (('place', 'order'), 106),\n",
       " (('last', 'time'), 105),\n",
       " (('never', 'go'), 105)]"
      ]
     },
     "execution_count": 121,
     "metadata": {},
     "output_type": "execute_result"
    }
   ],
   "source": [
    "neg_bigrams_counts.most_common(20)"
   ]
  },
  {
   "cell_type": "code",
   "execution_count": 122,
   "metadata": {},
   "outputs": [
    {
     "data": {
      "text/plain": [
       "[(('first', 'time', 'patient'), 121),\n",
       " (('dont', 'wast', 'time'), 84),\n",
       " (('never', 'go', 'back'), 67),\n",
       " (('thi', 'place', 'ha'), 51),\n",
       " (('wast', 'time', 'money'), 50),\n",
       " (('thi', 'place', 'suck'), 46),\n",
       " (('never', 'come', 'back'), 41),\n",
       " (('thi', 'place', 'wa'), 40),\n",
       " (('go', 'somewh', 'el'), 38),\n",
       " (('wa', 'first', 'time'), 33),\n",
       " (('recommend', 'thi', 'place'), 30),\n",
       " (('bad', 'custom', 'servic'), 29),\n",
       " (('horribl', 'custom', 'servic'), 28),\n",
       " (('dont', 'wast', 'money'), 27),\n",
       " (('thi', 'place', 'joke'), 25),\n",
       " (('time', 'patient', 'deal'), 23),\n",
       " (('get', 'free', 'gram'), 22),\n",
       " (('free', 'pre', 'roll'), 22),\n",
       " (('fuck', 'thi', 'place'), 22),\n",
       " (('wont', 'go', 'back'), 21)]"
      ]
     },
     "execution_count": 122,
     "metadata": {},
     "output_type": "execute_result"
    }
   ],
   "source": [
    "neg_trigrams_counts.most_common(20)"
   ]
  }
 ],
 "metadata": {
  "kernelspec": {
   "display_name": "Python 3",
   "language": "python",
   "name": "python3"
  }
 },
 "nbformat": 4,
 "nbformat_minor": 2
}
