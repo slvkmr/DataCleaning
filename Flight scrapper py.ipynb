{
 "cells": [
  {
   "cell_type": "markdown",
   "metadata": {},
   "source": [
    "### Import Packages"
   ]
  },
  {
   "cell_type": "code",
   "execution_count": 48,
   "metadata": {},
   "outputs": [],
   "source": [
    "import requests\n",
    "from bs4 import BeautifulSoup\n",
    "from openpyxl import Workbook\n",
    "from selenium import webdriver\n",
    "from selenium.webdriver.common.keys import Keys\n",
    "from selenium.webdriver.support.ui import Select\n",
    "import time\n",
    "from selenium.webdriver.chrome.options import Options"
   ]
  },
  {
   "cell_type": "markdown",
   "metadata": {},
   "source": [
    "### Chrome options"
   ]
  },
  {
   "cell_type": "code",
   "execution_count": 51,
   "metadata": {},
   "outputs": [],
   "source": [
    "options = Options()\n",
    "options.add_experimental_option(\"prefs\", {\n",
    "  \"download.prompt_for_download\": False,\n",
    "  \"safebrowsing.enabled\": True,\n",
    "  \"profile.default_content_setting_values.automatic_downloads\": 1\n",
    "})"
   ]
  },
  {
   "cell_type": "markdown",
   "metadata": {},
   "source": [
    "### Download CSV files"
   ]
  },
  {
   "cell_type": "code",
   "execution_count": null,
   "metadata": {},
   "outputs": [
    {
     "name": "stderr",
     "output_type": "stream",
     "text": [
      "C:\\Users\\Selva\\Anaconda3\\lib\\site-packages\\ipykernel_launcher.py:3: DeprecationWarning: use options instead of chrome_options\n",
      "  This is separate from the ipykernel package so we can avoid doing imports until\n"
     ]
    }
   ],
   "source": [
    "#Create browser instance and logon to transtats website\n",
    "browser = webdriver.Chrome(executable_path=r'C:\\Users\\Selva\\Downloads\\chromedriver_win32\\chromedriver.exe',\n",
    "                          chrome_options=options)\n",
    "browser.get('https://www.transtats.bts.gov/ONTIME/Departures.aspx')\n",
    "\n",
    "#Check all statistics\n",
    "browser.execute_script('document.getElementById(\"chkAllStatistics\").checked = true')\n",
    "for i in range(0,8):\n",
    "    browser.execute_script('document.getElementById(\"chkStatistics_'+str(i)+'\").checked = true')\n",
    "\n",
    "#Check all days\n",
    "browser.execute_script('document.getElementById(\"chkAllDays\").checked = true')\n",
    "for i in range(0,31):\n",
    "    browser.execute_script('document.getElementById(\"chkDays_'+str(i)+'\").checked = true')\n",
    "\n",
    "\n",
    "#Get airport and airline counts\n",
    "airport_count = browser.execute_script('return document.getElementById(\"cboAirport\").options.length')\n",
    "airline_count = browser.execute_script('return document.getElementById(\"cboAirline\").options.length')\n",
    "\n",
    "#Iterate over all airports and airlines for a given month and year and download csv data\n",
    "for i in range(0,airport_count):\n",
    "    browser.execute_script('document.getElementById(\"cboAirport\").selectedIndex = '+str(i))\n",
    "    for j in range(0,airline_count):\n",
    "        browser.execute_script('document.getElementById(\"cboAirline\").selectedIndex = '+str(j))\n",
    "        for k in range(0,12):\n",
    "            browser.execute_script('document.getElementById(\"chkMonths_'+str(k)+'\").checked = true')\n",
    "            for l in range(0,33):\n",
    "                browser.execute_script('document.getElementById(\"chkYears_'+str(l)+'\").checked = true')\n",
    "                #click submit\n",
    "                browser.execute_script('document.getElementById(\"btnSubmit\").click()')\n",
    "                time.sleep(2)\n",
    "                try:\n",
    "                    #download csv\n",
    "                    browser.execute_script('document.getElementById(\"DL_CSV\").click()')\n",
    "                    time.sleep(5)\n",
    "                except:\n",
    "                    browser.execute_script('document.getElementById(\"chkYears_'+str(l)+'\").checked = false')\n",
    "                    continue\n",
    "                browser.execute_script('document.getElementById(\"chkYears_'+str(l)+'\").checked = false')\n",
    "            browser.execute_script('document.getElementById(\"chkMonths_'+str(k)+'\").checked = false')\n",
    "browser.close()"
   ]
  }
 ],
 "metadata": {
  "kernelspec": {
   "display_name": "Python 3",
   "language": "python",
   "name": "python3"
  },
  "language_info": {
   "codemirror_mode": {
    "name": "ipython",
    "version": 3
   },
   "file_extension": ".py",
   "mimetype": "text/x-python",
   "name": "python",
   "nbconvert_exporter": "python",
   "pygments_lexer": "ipython3",
   "version": "3.6.9"
  }
 },
 "nbformat": 4,
 "nbformat_minor": 2
}
