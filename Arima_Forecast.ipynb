{
 "cells": [
  {
   "cell_type": "code",
   "execution_count": 114,
   "metadata": {},
   "outputs": [],
   "source": [
    "import tabpy_client\n",
    "\n",
    "client = tabpy_client.Client('http://localhost:9004/')"
   ]
  },
  {
   "cell_type": "code",
   "execution_count": 115,
   "metadata": {
    "collapsed": true
   },
   "outputs": [],
   "source": [
    "import pandas as pd\n",
    "import numpy as np\n",
    "import matplotlib.pyplot as plt\n",
    "from statsmodels.tsa.statespace.sarimax import SARIMAX\n",
    "from statsmodels.graphics.tsaplots import plot_acf\n",
    "from statsmodels.graphics.tsaplots import plot_pacf\n",
    "from statsmodels.tsa.stattools import adfuller\n",
    "from sklearn.metrics import mean_squared_error\n",
    "from math import sqrt\n"
   ]
  },
  {
   "cell_type": "code",
   "execution_count": 116,
   "metadata": {},
   "outputs": [
    {
     "data": {
      "text/html": [
       "<div>\n",
       "<style scoped>\n",
       "    .dataframe tbody tr th:only-of-type {\n",
       "        vertical-align: middle;\n",
       "    }\n",
       "\n",
       "    .dataframe tbody tr th {\n",
       "        vertical-align: top;\n",
       "    }\n",
       "\n",
       "    .dataframe thead th {\n",
       "        text-align: right;\n",
       "    }\n",
       "</style>\n",
       "<table border=\"1\" class=\"dataframe\">\n",
       "  <thead>\n",
       "    <tr style=\"text-align: right;\">\n",
       "      <th></th>\n",
       "      <th>Date/Time</th>\n",
       "      <th>Lat</th>\n",
       "      <th>Lon</th>\n",
       "      <th>Base</th>\n",
       "    </tr>\n",
       "  </thead>\n",
       "  <tbody>\n",
       "    <tr>\n",
       "      <th>0</th>\n",
       "      <td>4/1/2014 0:11:00</td>\n",
       "      <td>40.7690</td>\n",
       "      <td>-73.9549</td>\n",
       "      <td>B02512</td>\n",
       "    </tr>\n",
       "    <tr>\n",
       "      <th>1</th>\n",
       "      <td>4/1/2014 0:17:00</td>\n",
       "      <td>40.7267</td>\n",
       "      <td>-74.0345</td>\n",
       "      <td>B02512</td>\n",
       "    </tr>\n",
       "    <tr>\n",
       "      <th>2</th>\n",
       "      <td>4/1/2014 0:21:00</td>\n",
       "      <td>40.7316</td>\n",
       "      <td>-73.9873</td>\n",
       "      <td>B02512</td>\n",
       "    </tr>\n",
       "    <tr>\n",
       "      <th>3</th>\n",
       "      <td>4/1/2014 0:28:00</td>\n",
       "      <td>40.7588</td>\n",
       "      <td>-73.9776</td>\n",
       "      <td>B02512</td>\n",
       "    </tr>\n",
       "    <tr>\n",
       "      <th>4</th>\n",
       "      <td>4/1/2014 0:33:00</td>\n",
       "      <td>40.7594</td>\n",
       "      <td>-73.9722</td>\n",
       "      <td>B02512</td>\n",
       "    </tr>\n",
       "  </tbody>\n",
       "</table>\n",
       "</div>"
      ],
      "text/plain": [
       "          Date/Time      Lat      Lon    Base\n",
       "0  4/1/2014 0:11:00  40.7690 -73.9549  B02512\n",
       "1  4/1/2014 0:17:00  40.7267 -74.0345  B02512\n",
       "2  4/1/2014 0:21:00  40.7316 -73.9873  B02512\n",
       "3  4/1/2014 0:28:00  40.7588 -73.9776  B02512\n",
       "4  4/1/2014 0:33:00  40.7594 -73.9722  B02512"
      ]
     },
     "execution_count": 116,
     "metadata": {},
     "output_type": "execute_result"
    }
   ],
   "source": [
    "def prepare_2014_df():\n",
    "    \n",
    "    #Loading datasets\n",
    "    uber_2014_apr=pd.read_csv(r'C:\\Users\\Selva\\Downloads\\uber-pickups-in-new-york-city\\uber-raw-data-apr14.csv',header=0)\n",
    "    uber_2014_may=pd.read_csv(r'C:\\Users\\Selva\\Downloads\\uber-pickups-in-new-york-city\\uber-raw-data-may14.csv',header=0)\n",
    "    uber_2014_jun=pd.read_csv(r'C:\\Users\\Selva\\Downloads\\uber-pickups-in-new-york-city\\uber-raw-data-jun14.csv',header=0)\n",
    "    uber_2014_jul=pd.read_csv(r'C:\\Users\\Selva\\Downloads\\uber-pickups-in-new-york-city\\uber-raw-data-jul14.csv',header=0)\n",
    "    uber_2014_aug=pd.read_csv(r'C:\\Users\\Selva\\Downloads\\uber-pickups-in-new-york-city\\uber-raw-data-aug14.csv',header=0)\n",
    "    \n",
    "    #Merging\n",
    "    df = uber_2014_apr.append([uber_2014_may,uber_2014_jun,uber_2014_jul,uber_2014_aug], ignore_index=True)\n",
    "    \n",
    "    #returning merged dataframe\n",
    "    return df\n",
    "\n",
    "#Uber 2014 dataset\n",
    "uber_2014_master = prepare_2014_df()\n",
    "uber_2014_master.head()\n"
   ]
  },
  {
   "cell_type": "code",
   "execution_count": 117,
   "metadata": {},
   "outputs": [
    {
     "data": {
      "text/plain": [
       "Date/Time\n",
       "2014-04-01    14546\n",
       "2014-04-02    17474\n",
       "2014-04-03    20701\n",
       "2014-04-04    26714\n",
       "2014-04-05    19521\n",
       "Freq: D, dtype: int64"
      ]
     },
     "execution_count": 117,
     "metadata": {},
     "output_type": "execute_result"
    }
   ],
   "source": [
    "def create_day_series(df):\n",
    "    \n",
    "    # Grouping by Date/Time to calculate number of trips\n",
    "    day_df = pd.Series(df.groupby(['Date/Time']).size())\n",
    "    # setting Date/Time as index\n",
    "    day_df.index = pd.DatetimeIndex(day_df.index)\n",
    "    # Resampling to daily trips\n",
    "    day_df = day_df.resample('1D').apply(np.sum)\n",
    "    \n",
    "    return day_df\n",
    "\n",
    "day_df_2014 = create_day_series(uber_2014_master)\n",
    "day_df_2014.head()"
   ]
  },
  {
   "cell_type": "code",
   "execution_count": 118,
   "metadata": {},
   "outputs": [
    {
     "name": "stderr",
     "output_type": "stream",
     "text": [
      "C:\\Users\\Selva\\Anaconda3\\lib\\site-packages\\statsmodels\\base\\model.py:508: ConvergenceWarning: Maximum Likelihood optimization failed to converge. Check mle_retvals\n",
      "  \"Check mle_retvals\", ConvergenceWarning)\n",
      "C:\\Users\\Selva\\Anaconda3\\lib\\site-packages\\statsmodels\\base\\model.py:508: ConvergenceWarning: Maximum Likelihood optimization failed to converge. Check mle_retvals\n",
      "  \"Check mle_retvals\", ConvergenceWarning)\n",
      "C:\\Users\\Selva\\Anaconda3\\lib\\site-packages\\statsmodels\\base\\model.py:508: ConvergenceWarning: Maximum Likelihood optimization failed to converge. Check mle_retvals\n",
      "  \"Check mle_retvals\", ConvergenceWarning)\n",
      "C:\\Users\\Selva\\Anaconda3\\lib\\site-packages\\statsmodels\\base\\model.py:508: ConvergenceWarning: Maximum Likelihood optimization failed to converge. Check mle_retvals\n",
      "  \"Check mle_retvals\", ConvergenceWarning)\n",
      "C:\\Users\\Selva\\Anaconda3\\lib\\site-packages\\statsmodels\\base\\model.py:508: ConvergenceWarning: Maximum Likelihood optimization failed to converge. Check mle_retvals\n",
      "  \"Check mle_retvals\", ConvergenceWarning)\n",
      "C:\\Users\\Selva\\Anaconda3\\lib\\site-packages\\statsmodels\\base\\model.py:508: ConvergenceWarning: Maximum Likelihood optimization failed to converge. Check mle_retvals\n",
      "  \"Check mle_retvals\", ConvergenceWarning)\n",
      "C:\\Users\\Selva\\Anaconda3\\lib\\site-packages\\statsmodels\\base\\model.py:508: ConvergenceWarning: Maximum Likelihood optimization failed to converge. Check mle_retvals\n",
      "  \"Check mle_retvals\", ConvergenceWarning)\n",
      "C:\\Users\\Selva\\Anaconda3\\lib\\site-packages\\statsmodels\\base\\model.py:508: ConvergenceWarning: Maximum Likelihood optimization failed to converge. Check mle_retvals\n",
      "  \"Check mle_retvals\", ConvergenceWarning)\n",
      "C:\\Users\\Selva\\Anaconda3\\lib\\site-packages\\statsmodels\\base\\model.py:508: ConvergenceWarning: Maximum Likelihood optimization failed to converge. Check mle_retvals\n",
      "  \"Check mle_retvals\", ConvergenceWarning)\n",
      "C:\\Users\\Selva\\Anaconda3\\lib\\site-packages\\statsmodels\\base\\model.py:508: ConvergenceWarning: Maximum Likelihood optimization failed to converge. Check mle_retvals\n",
      "  \"Check mle_retvals\", ConvergenceWarning)\n",
      "C:\\Users\\Selva\\Anaconda3\\lib\\site-packages\\statsmodels\\base\\model.py:508: ConvergenceWarning: Maximum Likelihood optimization failed to converge. Check mle_retvals\n",
      "  \"Check mle_retvals\", ConvergenceWarning)\n",
      "C:\\Users\\Selva\\Anaconda3\\lib\\site-packages\\statsmodels\\base\\model.py:508: ConvergenceWarning: Maximum Likelihood optimization failed to converge. Check mle_retvals\n",
      "  \"Check mle_retvals\", ConvergenceWarning)\n"
     ]
    }
   ],
   "source": [
    "#Defining RMSE\n",
    "def rmse(x,y):\n",
    "    return sqrt(mean_squared_error(x,y))\n",
    "\n",
    "#fitting ARIMA model on dataset\n",
    "def SARIMAX_call(time_series,p_list,d_list,q_list,P_list,D_list,Q_list,s_list,test_period):    \n",
    "    \n",
    "    #Splitting into training and testing\n",
    "    training_ts = time_series[:-test_period]\n",
    "    \n",
    "    testing_ts = time_series[len(time_series)-test_period:]\n",
    "    \n",
    "    error_table = pd.DataFrame(columns = ['p','d','q','P','D','Q','s','AIC','BIC','RMSE'],\\\n",
    "                                                           index = range(len(ns_ar)*len(ns_diff)*len(ns_ma)*len(s_ar)\\\n",
    "                                                                         *len(s_diff)*len(s_ma)*len(s_list)))\n",
    "    count = 0\n",
    "    for p in p_list:\n",
    "        for d in d_list:\n",
    "            for q in q_list:\n",
    "                for P in P_list:\n",
    "                    for D in D_list:\n",
    "                        for Q in Q_list:\n",
    "                            for s in s_list:\n",
    "                                #fitting the model\n",
    "                                SARIMAX_model = SARIMAX(training_ts.astype(float),\\\n",
    "                                                        order=(p,d,q),\\\n",
    "                                                        seasonal_order=(P,D,Q,s),\\\n",
    "                                                        enforce_invertibility=False)\n",
    "                                SARIMAX_model_fit = SARIMAX_model.fit(disp=0)\n",
    "                                AIC = np.round(SARIMAX_model_fit.aic,2)\n",
    "                                BIC = np.round(SARIMAX_model_fit.bic,2)\n",
    "                                predictions = SARIMAX_model_fit.forecast(steps=test_period,typ='levels')\n",
    "                                RMSE = rmse(testing_ts.values,predictions.values)                                \n",
    "                                #populating error table\n",
    "                                error_table['p'][count] = p\n",
    "                                error_table['d'][count] = d\n",
    "                                error_table['q'][count] = q\n",
    "                                error_table['P'][count] = P\n",
    "                                error_table['D'][count] = D\n",
    "                                error_table['Q'][count] = Q\n",
    "                                error_table['s'][count] = s\n",
    "                                error_table['AIC'][count] = AIC\n",
    "                                error_table['BIC'][count] = BIC\n",
    "                                error_table['RMSE'][count] = RMSE\n",
    "                                \n",
    "                                count+=1 #incrementing count        \n",
    "    \n",
    "    #returning the fitted model and values\n",
    "    return error_table\n",
    "ns_ar = [0,1,2]\n",
    "ns_diff = [1]\n",
    "ns_ma = [0,1,2]\n",
    "s_ar = [0,1]\n",
    "s_diff = [0,1] \n",
    "s_ma = [1,2]\n",
    "s_list = [7]\n",
    "\n",
    "error_table = SARIMAX_call(day_df_2014,ns_ar,ns_diff,ns_ma,s_ar,s_diff,s_ma,s_list,30)\n"
   ]
  },
  {
   "cell_type": "code",
   "execution_count": 119,
   "metadata": {},
   "outputs": [
    {
     "data": {
      "text/html": [
       "<div>\n",
       "<style scoped>\n",
       "    .dataframe tbody tr th:only-of-type {\n",
       "        vertical-align: middle;\n",
       "    }\n",
       "\n",
       "    .dataframe tbody tr th {\n",
       "        vertical-align: top;\n",
       "    }\n",
       "\n",
       "    .dataframe thead th {\n",
       "        text-align: right;\n",
       "    }\n",
       "</style>\n",
       "<table border=\"1\" class=\"dataframe\">\n",
       "  <thead>\n",
       "    <tr style=\"text-align: right;\">\n",
       "      <th></th>\n",
       "      <th>p</th>\n",
       "      <th>d</th>\n",
       "      <th>q</th>\n",
       "      <th>P</th>\n",
       "      <th>D</th>\n",
       "      <th>Q</th>\n",
       "      <th>s</th>\n",
       "      <th>AIC</th>\n",
       "      <th>BIC</th>\n",
       "      <th>RMSE</th>\n",
       "    </tr>\n",
       "  </thead>\n",
       "  <tbody>\n",
       "    <tr>\n",
       "      <th>37</th>\n",
       "      <td>1</td>\n",
       "      <td>1</td>\n",
       "      <td>1</td>\n",
       "      <td>1</td>\n",
       "      <td>0</td>\n",
       "      <td>2</td>\n",
       "      <td>7</td>\n",
       "      <td>2348.9</td>\n",
       "      <td>2365.73</td>\n",
       "      <td>1751</td>\n",
       "    </tr>\n",
       "    <tr>\n",
       "      <th>36</th>\n",
       "      <td>1</td>\n",
       "      <td>1</td>\n",
       "      <td>1</td>\n",
       "      <td>1</td>\n",
       "      <td>0</td>\n",
       "      <td>1</td>\n",
       "      <td>7</td>\n",
       "      <td>2345.86</td>\n",
       "      <td>2359.88</td>\n",
       "      <td>2177.15</td>\n",
       "    </tr>\n",
       "    <tr>\n",
       "      <th>69</th>\n",
       "      <td>2</td>\n",
       "      <td>1</td>\n",
       "      <td>2</td>\n",
       "      <td>1</td>\n",
       "      <td>0</td>\n",
       "      <td>2</td>\n",
       "      <td>7</td>\n",
       "      <td>2344.2</td>\n",
       "      <td>2366.63</td>\n",
       "      <td>2437.93</td>\n",
       "    </tr>\n",
       "    <tr>\n",
       "      <th>68</th>\n",
       "      <td>2</td>\n",
       "      <td>1</td>\n",
       "      <td>2</td>\n",
       "      <td>1</td>\n",
       "      <td>0</td>\n",
       "      <td>1</td>\n",
       "      <td>7</td>\n",
       "      <td>2341.01</td>\n",
       "      <td>2360.64</td>\n",
       "      <td>2985.87</td>\n",
       "    </tr>\n",
       "    <tr>\n",
       "      <th>61</th>\n",
       "      <td>2</td>\n",
       "      <td>1</td>\n",
       "      <td>1</td>\n",
       "      <td>1</td>\n",
       "      <td>0</td>\n",
       "      <td>2</td>\n",
       "      <td>7</td>\n",
       "      <td>2349.48</td>\n",
       "      <td>2369.11</td>\n",
       "      <td>3043.92</td>\n",
       "    </tr>\n",
       "  </tbody>\n",
       "</table>\n",
       "</div>"
      ],
      "text/plain": [
       "    p  d  q  P  D  Q  s      AIC      BIC     RMSE\n",
       "37  1  1  1  1  0  2  7   2348.9  2365.73     1751\n",
       "36  1  1  1  1  0  1  7  2345.86  2359.88  2177.15\n",
       "69  2  1  2  1  0  2  7   2344.2  2366.63  2437.93\n",
       "68  2  1  2  1  0  1  7  2341.01  2360.64  2985.87\n",
       "61  2  1  1  1  0  2  7  2349.48  2369.11  3043.92"
      ]
     },
     "execution_count": 119,
     "metadata": {},
     "output_type": "execute_result"
    }
   ],
   "source": [
    "# printing top 5 lowest RMSE from error table\n",
    "error_table.sort_values(by='RMSE').head(5)"
   ]
  },
  {
   "cell_type": "code",
   "execution_count": 120,
   "metadata": {},
   "outputs": [],
   "source": [
    "#Predicting values using the fitted model\n",
    "def predict(time_series,p,d,q,P,D,Q,s,n_days,conf):\n",
    "    \n",
    "    #Splitting into training and testing\n",
    "    training_ts = time_series[:-n_days]\n",
    "    \n",
    "    testing_ts = time_series[len(time_series)-n_days:]\n",
    "    \n",
    "    #fitting the model\n",
    "    SARIMAX_model = SARIMAX(training_ts.astype(float),\\\n",
    "                            order=(p,d,q),\\\n",
    "                            seasonal_order=(P,D,Q,s),\\\n",
    "                            enforce_invertibility=False)\n",
    "    SARIMAX_model_fit = SARIMAX_model.fit(disp=0)\n",
    "    \n",
    "    #Predicting\n",
    "    SARIMAX_prediction = pd.DataFrame(SARIMAX_model_fit.forecast(steps=n_days,alpha=(1-conf)).values,\\\n",
    "                          columns=['Prediction'])\n",
    "    SARIMAX_prediction.index = pd.date_range(training_ts.index.max()+1,periods=n_days)\n",
    "    return list(SARIMAX_prediction['Prediction'])\n",
    "\n"
   ]
  },
  {
   "cell_type": "code",
   "execution_count": 121,
   "metadata": {},
   "outputs": [
    {
     "name": "stdout",
     "output_type": "stream",
     "text": [
      "[27194.372871561212, 29130.049721905645, 27968.055949968868, 23871.56036396292, 18899.43968309379]\n"
     ]
    }
   ],
   "source": [
    "prediction = predict(day_df_2014,0,1,0,0,1,2,7,5,0.80)\n",
    "print(prediction)"
   ]
  },
  {
   "cell_type": "code",
   "execution_count": 122,
   "metadata": {},
   "outputs": [],
   "source": [
    "uber_2014_aug=pd.read_csv(r'C:\\Users\\Selva\\Downloads\\uber-pickups-in-new-york-city\\uber-raw-data-aug14.csv',header=0)\n",
    "uber_2014_sep=pd.read_csv(r'C:\\Users\\Selva\\Downloads\\uber-pickups-in-new-york-city\\uber-raw-data-sep14.csv',header=0)\n",
    "uber_2014_aug=create_day_series(uber_2014_aug)\n",
    "uber_2014_sep=create_day_series(uber_2014_sep)"
   ]
  },
  {
   "cell_type": "code",
   "execution_count": 124,
   "metadata": {
    "collapsed": true
   },
   "outputs": [],
   "source": [
    "def actual_values():\n",
    "    return list(uber_2014_aug)+list(uber_2014_sep[:5])"
   ]
  },
  {
   "cell_type": "code",
   "execution_count": 165,
   "metadata": {},
   "outputs": [],
   "source": [
    "pd.concat([pd.Series(range(1,37)),(pd.Series(list(uber_2014_aug)+prediction))],axis=1).to_csv(r'C:\\Users\\Selva\\Downloads\\arima_forecast.csv')"
   ]
  },
  {
   "cell_type": "code",
   "execution_count": 166,
   "metadata": {},
   "outputs": [],
   "source": [
    "pd.concat([pd.Series(range(1,37)),pd.Series(actual_values())],axis=1).to_csv(r'C:\\Users\\Selva\\Downloads\\actuals.csv')"
   ]
  }
 ],
 "metadata": {
  "kernelspec": {
   "display_name": "Python 3",
   "language": "python",
   "name": "python3"
  },
  "language_info": {
   "codemirror_mode": {
    "name": "ipython",
    "version": 3
   },
   "file_extension": ".py",
   "mimetype": "text/x-python",
   "name": "python",
   "nbconvert_exporter": "python",
   "pygments_lexer": "ipython3",
   "version": "3.6.6"
  }
 },
 "nbformat": 4,
 "nbformat_minor": 2
}
