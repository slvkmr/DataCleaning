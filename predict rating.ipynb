{
 "cells": [
  {
   "cell_type": "code",
   "execution_count": 134,
   "metadata": {
    "collapsed": true
   },
   "outputs": [],
   "source": [
    "import pandas as pd\n",
    "import numpy as np\n",
    "import re\n",
    "from sklearn.feature_extraction.text import TfidfVectorizer"
   ]
  },
  {
   "cell_type": "code",
   "execution_count": 99,
   "metadata": {
    "collapsed": true
   },
   "outputs": [],
   "source": [
    "df = pd.read_csv(r'C:\\Users\\Selva\\Desktop\\Cyrus\\OneDrive_1_9-4-2019\\Predict rating.csv')"
   ]
  },
  {
   "cell_type": "code",
   "execution_count": 100,
   "metadata": {
    "collapsed": true
   },
   "outputs": [],
   "source": [
    "pd.set_option('display.max_colwidth', -1)"
   ]
  },
  {
   "cell_type": "code",
   "execution_count": 101,
   "metadata": {},
   "outputs": [
    {
     "data": {
      "text/html": [
       "<div>\n",
       "<style scoped>\n",
       "    .dataframe tbody tr th:only-of-type {\n",
       "        vertical-align: middle;\n",
       "    }\n",
       "\n",
       "    .dataframe tbody tr th {\n",
       "        vertical-align: top;\n",
       "    }\n",
       "\n",
       "    .dataframe thead th {\n",
       "        text-align: right;\n",
       "    }\n",
       "</style>\n",
       "<table border=\"1\" class=\"dataframe\">\n",
       "  <thead>\n",
       "    <tr style=\"text-align: right;\">\n",
       "      <th></th>\n",
       "      <th>review_title</th>\n",
       "      <th>review_body</th>\n",
       "      <th>rating</th>\n",
       "      <th>staff_rating</th>\n",
       "      <th>atmos_rating</th>\n",
       "      <th>bud_rating</th>\n",
       "    </tr>\n",
       "  </thead>\n",
       "  <tbody>\n",
       "    <tr>\n",
       "      <th>86672</th>\n",
       "      <td>caviar pre roll</td>\n",
       "      <td>Best pre roll I've had since I've been here</td>\n",
       "      <td>5.0</td>\n",
       "      <td>5.0</td>\n",
       "      <td>5.0</td>\n",
       "      <td>5.0</td>\n",
       "    </tr>\n",
       "    <tr>\n",
       "      <th>62367</th>\n",
       "      <td>TASTIEST &amp; MOST POTENT</td>\n",
       "      <td>Been using C.O.D. services for a while, and have never been disappointed.\\nAwesome selection, great tasty/fruity exotic strains, and the potency is definitely top-shelf.\\nGreat delivery as well, accurate ETA and regular updates on the way.\\nTruly the best all around, no doubt !</td>\n",
       "      <td>5.0</td>\n",
       "      <td>5.0</td>\n",
       "      <td>NaN</td>\n",
       "      <td>5.0</td>\n",
       "    </tr>\n",
       "    <tr>\n",
       "      <th>83075</th>\n",
       "      <td>Best Edible Pricing</td>\n",
       "      <td>If edibles are your thing, heck even if they aren't, this place has the best pricing and a huge selection of options! Make sure to see Jay and tell I sent you!</td>\n",
       "      <td>5.0</td>\n",
       "      <td>5.0</td>\n",
       "      <td>5.0</td>\n",
       "      <td>5.0</td>\n",
       "    </tr>\n",
       "    <tr>\n",
       "      <th>54931</th>\n",
       "      <td>Coco Diaz Original Spot</td>\n",
       "      <td>I just moved to the area and I was on the hunt for a top shelf collective to get my meds. Parking for this place is a little rough because it's in a relatively high traffic part of NoHo, but there's metered parking along the street. Inside the place is well decorated and air conditioned. The staff was friendly and helpful, they made an effort to make sure that I felt like I had a good experience. Great customer service and the recommendations seemed like they weren't trying to bullshit me and tell me 'everything we sell is potent.' They have a big selection of buds, edibles and a moderate selection of concentrates. Prices weren't cheap but they weren't a rip off either; if you're trying to get an ounce for 100 dollars don't bother coming here. I think the cost justified the price of the stuff they had. Wil be returning regularly.</td>\n",
       "      <td>4.6</td>\n",
       "      <td>5.0</td>\n",
       "      <td>5.0</td>\n",
       "      <td>5.0</td>\n",
       "    </tr>\n",
       "    <tr>\n",
       "      <th>138493</th>\n",
       "      <td>Review</td>\n",
       "      <td>Greatest bud tenders good selection of flower and welcoming environment</td>\n",
       "      <td>5.0</td>\n",
       "      <td>5.0</td>\n",
       "      <td>5.0</td>\n",
       "      <td>5.0</td>\n",
       "    </tr>\n",
       "    <tr>\n",
       "      <th>139301</th>\n",
       "      <td>Thank you Cindy!!</td>\n",
       "      <td>Such a personable bud tender and always answers questions. Great product!! Thanks guys!</td>\n",
       "      <td>5.0</td>\n",
       "      <td>5.0</td>\n",
       "      <td>5.0</td>\n",
       "      <td>5.0</td>\n",
       "    </tr>\n",
       "    <tr>\n",
       "      <th>93776</th>\n",
       "      <td>hydro buds and that evolution SHATTER. wowwww</td>\n",
       "      <td>this is one of the best im thinking maybe even the best delivery in the area. the guys who deliver are all super nice and i never wait too long so thats a big plus. and the prices i think are fair for how potent the meds are. so getting to the point i was blown away by this service last time i ordered and had to leave a review when someone really is on top of the game like sac confidential. i like good buds and these guys have them talking those nice dense hyrdo buds but more and more im turning into a wax and shatter dabber as they call em not even smoking weed as much. i love the strong concentrates and especially shatter because thats the best tasting and pure. that evolution shatter you all had blew me away for real i never tried anything like that before and i go out to oakland sometimes for meds so that says something. very happy patient here not one bad thing to say about this service the others guys could learn something haha</td>\n",
       "      <td>5.0</td>\n",
       "      <td>5.0</td>\n",
       "      <td>NaN</td>\n",
       "      <td>5.0</td>\n",
       "    </tr>\n",
       "    <tr>\n",
       "      <th>92127</th>\n",
       "      <td>bomb shop in I. E</td>\n",
       "      <td>in El Monte and I can't wait to go to wonderland they have ð¥ð¥ð¥ð¥ð¥ð¥</td>\n",
       "      <td>5.0</td>\n",
       "      <td>5.0</td>\n",
       "      <td>5.0</td>\n",
       "      <td>5.0</td>\n",
       "    </tr>\n",
       "    <tr>\n",
       "      <th>97141</th>\n",
       "      <td>Releaf</td>\n",
       "      <td>Best prices great and friendly staff. I'm omw in now. Visit CC Releaf Today!! ð¯ð</td>\n",
       "      <td>5.0</td>\n",
       "      <td>5.0</td>\n",
       "      <td>5.0</td>\n",
       "      <td>5.0</td>\n",
       "    </tr>\n",
       "    <tr>\n",
       "      <th>172195</th>\n",
       "      <td>good weed</td>\n",
       "      <td>girls are supper friendly and act professional</td>\n",
       "      <td>5.0</td>\n",
       "      <td>5.0</td>\n",
       "      <td>5.0</td>\n",
       "      <td>5.0</td>\n",
       "    </tr>\n",
       "    <tr>\n",
       "      <th>168944</th>\n",
       "      <td>Great Spot</td>\n",
       "      <td>Dab bar is great and staff is hospitable</td>\n",
       "      <td>5.0</td>\n",
       "      <td>5.0</td>\n",
       "      <td>5.0</td>\n",
       "      <td>5.0</td>\n",
       "    </tr>\n",
       "    <tr>\n",
       "      <th>72603</th>\n",
       "      <td>local shop</td>\n",
       "      <td>bomb bud and bud tenders always cool</td>\n",
       "      <td>5.0</td>\n",
       "      <td>5.0</td>\n",
       "      <td>5.0</td>\n",
       "      <td>5.0</td>\n",
       "    </tr>\n",
       "    <tr>\n",
       "      <th>159351</th>\n",
       "      <td>Just moved back to W.H.</td>\n",
       "      <td>ASHMOON you guys rock!  The medicine I picked up left my hand super icky sticky.  I tried a 10g and a 15g.  Both were great!  Looking forward to visiting Happy Hour!</td>\n",
       "      <td>5.0</td>\n",
       "      <td>5.0</td>\n",
       "      <td>5.0</td>\n",
       "      <td>5.0</td>\n",
       "    </tr>\n",
       "    <tr>\n",
       "      <th>145305</th>\n",
       "      <td>Ã°Å¸âÅ</td>\n",
       "      <td>awesome place</td>\n",
       "      <td>5.0</td>\n",
       "      <td>5.0</td>\n",
       "      <td>5.0</td>\n",
       "      <td>5.0</td>\n",
       "    </tr>\n",
       "    <tr>\n",
       "      <th>55282</th>\n",
       "      <td>awesome</td>\n",
       "      <td>I love this place all the bud tenders are awesome</td>\n",
       "      <td>5.0</td>\n",
       "      <td>5.0</td>\n",
       "      <td>5.0</td>\n",
       "      <td>5.0</td>\n",
       "    </tr>\n",
       "    <tr>\n",
       "      <th>73231</th>\n",
       "      <td>Huge Selection! Very satisfied</td>\n",
       "      <td>Loved the service too</td>\n",
       "      <td>5.0</td>\n",
       "      <td>5.0</td>\n",
       "      <td>5.0</td>\n",
       "      <td>5.0</td>\n",
       "    </tr>\n",
       "    <tr>\n",
       "      <th>55882</th>\n",
       "      <td>fantastic</td>\n",
       "      <td>I absolutely loved my experience with these guys. the driver was very educated an gave great advice that worked wonders. I will be recommending them to my friends. quality producs and discrete arrival.. I am very impressed! prices are great too ðð»</td>\n",
       "      <td>5.0</td>\n",
       "      <td>5.0</td>\n",
       "      <td>NaN</td>\n",
       "      <td>5.0</td>\n",
       "    </tr>\n",
       "    <tr>\n",
       "      <th>73735</th>\n",
       "      <td>price and quality.</td>\n",
       "      <td>best around. yee stay lit Ã°Å¸ÂÂ</td>\n",
       "      <td>5.0</td>\n",
       "      <td>5.0</td>\n",
       "      <td>5.0</td>\n",
       "      <td>5.0</td>\n",
       "    </tr>\n",
       "    <tr>\n",
       "      <th>13486</th>\n",
       "      <td>kief!!!</td>\n",
       "      <td>really good kief to top off your bowls!! good price to.</td>\n",
       "      <td>5.0</td>\n",
       "      <td>5.0</td>\n",
       "      <td>5.0</td>\n",
       "      <td>5.0</td>\n",
       "    </tr>\n",
       "    <tr>\n",
       "      <th>104526</th>\n",
       "      <td>best spot</td>\n",
       "      <td>fire ass wood best prices love the wax and the enviorment is great best vibes ever</td>\n",
       "      <td>5.0</td>\n",
       "      <td>5.0</td>\n",
       "      <td>5.0</td>\n",
       "      <td>5.0</td>\n",
       "    </tr>\n",
       "    <tr>\n",
       "      <th>78858</th>\n",
       "      <td>Dope AF</td>\n",
       "      <td>Love this place</td>\n",
       "      <td>5.0</td>\n",
       "      <td>5.0</td>\n",
       "      <td>5.0</td>\n",
       "      <td>5.0</td>\n",
       "    </tr>\n",
       "    <tr>\n",
       "      <th>92058</th>\n",
       "      <td>weed review</td>\n",
       "      <td>they have real good grams for twelve dollars and the staff is good with good service. its real affordable for everyone. i come here almostbeveryday ad im still not gettimg tired of the bud.</td>\n",
       "      <td>3.8</td>\n",
       "      <td>4.0</td>\n",
       "      <td>4.0</td>\n",
       "      <td>4.0</td>\n",
       "    </tr>\n",
       "    <tr>\n",
       "      <th>134038</th>\n",
       "      <td>NaN</td>\n",
       "      <td>NaN</td>\n",
       "      <td>NaN</td>\n",
       "      <td>NaN</td>\n",
       "      <td>NaN</td>\n",
       "      <td>NaN</td>\n",
       "    </tr>\n",
       "    <tr>\n",
       "      <th>35379</th>\n",
       "      <td>update</td>\n",
       "      <td>after visiting a few more dispensaries, I have to say altho their shop is a little messy, this is one place I will be returning to.</td>\n",
       "      <td>5.0</td>\n",
       "      <td>5.0</td>\n",
       "      <td>5.0</td>\n",
       "      <td>5.0</td>\n",
       "    </tr>\n",
       "    <tr>\n",
       "      <th>52072</th>\n",
       "      <td>Richard hungwell</td>\n",
       "      <td>Best selection best service</td>\n",
       "      <td>5.0</td>\n",
       "      <td>5.0</td>\n",
       "      <td>5.0</td>\n",
       "      <td>5.0</td>\n",
       "    </tr>\n",
       "  </tbody>\n",
       "</table>\n",
       "</div>"
      ],
      "text/plain": [
       "                                         review_title  \\\n",
       "86672   caviar pre roll                                 \n",
       "62367   TASTIEST & MOST POTENT                          \n",
       "83075   Best Edible Pricing                             \n",
       "54931   Coco Diaz Original Spot                         \n",
       "138493  Review                                          \n",
       "139301  Thank you Cindy!!                               \n",
       "93776   hydro buds and that evolution SHATTER. wowwww   \n",
       "92127   bomb shop in I. E                               \n",
       "97141   Releaf                                          \n",
       "172195  good weed                                       \n",
       "168944  Great Spot                                      \n",
       "72603   local shop                                      \n",
       "159351  Just moved back to W.H.                         \n",
       "145305  Ã°Å¸âÅ                                       \n",
       "55282   awesome                                         \n",
       "73231   Huge Selection! Very satisfied                  \n",
       "55882   fantastic                                       \n",
       "73735   price and quality.                              \n",
       "13486   kief!!!                                         \n",
       "104526  best spot                                       \n",
       "78858   Dope AF                                         \n",
       "92058   weed review                                     \n",
       "134038  NaN                                             \n",
       "35379   update                                          \n",
       "52072   Richard hungwell                                \n",
       "\n",
       "                                                                                                                                                                                                                                                                                                                                                                                                                                                                                                                                                                                                                                                                                                                                                                                                                                                                                                                                                                                 review_body  \\\n",
       "86672   Best pre roll I've had since I've been here                                                                                                                                                                                                                                                                                                                                                                                                                                                                                                                                                                                                                                                                                                                                                                                                                                                                                                                                            \n",
       "62367   Been using C.O.D. services for a while, and have never been disappointed.\\nAwesome selection, great tasty/fruity exotic strains, and the potency is definitely top-shelf.\\nGreat delivery as well, accurate ETA and regular updates on the way.\\nTruly the best all around, no doubt !                                                                                                                                                                                                                                                                                                                                                                                                                                                                                                                                                                                                                                                                                                 \n",
       "83075   If edibles are your thing, heck even if they aren't, this place has the best pricing and a huge selection of options! Make sure to see Jay and tell I sent you!                                                                                                                                                                                                                                                                                                                                                                                                                                                                                                                                                                                                                                                                                                                                                                                                                        \n",
       "54931   I just moved to the area and I was on the hunt for a top shelf collective to get my meds. Parking for this place is a little rough because it's in a relatively high traffic part of NoHo, but there's metered parking along the street. Inside the place is well decorated and air conditioned. The staff was friendly and helpful, they made an effort to make sure that I felt like I had a good experience. Great customer service and the recommendations seemed like they weren't trying to bullshit me and tell me 'everything we sell is potent.' They have a big selection of buds, edibles and a moderate selection of concentrates. Prices weren't cheap but they weren't a rip off either; if you're trying to get an ounce for 100 dollars don't bother coming here. I think the cost justified the price of the stuff they had. Wil be returning regularly.                                                                                                              \n",
       "138493  Greatest bud tenders good selection of flower and welcoming environment                                                                                                                                                                                                                                                                                                                                                                                                                                                                                                                                                                                                                                                                                                                                                                                                                                                                                                                \n",
       "139301  Such a personable bud tender and always answers questions. Great product!! Thanks guys!                                                                                                                                                                                                                                                                                                                                                                                                                                                                                                                                                                                                                                                                                                                                                                                                                                                                                                \n",
       "93776   this is one of the best im thinking maybe even the best delivery in the area. the guys who deliver are all super nice and i never wait too long so thats a big plus. and the prices i think are fair for how potent the meds are. so getting to the point i was blown away by this service last time i ordered and had to leave a review when someone really is on top of the game like sac confidential. i like good buds and these guys have them talking those nice dense hyrdo buds but more and more im turning into a wax and shatter dabber as they call em not even smoking weed as much. i love the strong concentrates and especially shatter because thats the best tasting and pure. that evolution shatter you all had blew me away for real i never tried anything like that before and i go out to oakland sometimes for meds so that says something. very happy patient here not one bad thing to say about this service the others guys could learn something haha    \n",
       "92127   in El Monte and I can't wait to go to wonderland they have ð¥ð¥ð¥ð¥ð¥ð¥                                                                                                                                                                                                                                                                                                                                                                                                                                                                                                                                                                                                                                                                                                                                                                                                                                                                                                    \n",
       "97141   Best prices great and friendly staff. I'm omw in now. Visit CC Releaf Today!! ð¯ð                                                                                                                                                                                                                                                                                                                                                                                                                                                                                                                                                                                                                                                                                                                                                                                                                                                                                                 \n",
       "172195  girls are supper friendly and act professional                                                                                                                                                                                                                                                                                                                                                                                                                                                                                                                                                                                                                                                                                                                                                                                                                                                                                                                                         \n",
       "168944  Dab bar is great and staff is hospitable                                                                                                                                                                                                                                                                                                                                                                                                                                                                                                                                                                                                                                                                                                                                                                                                                                                                                                                                               \n",
       "72603   bomb bud and bud tenders always cool                                                                                                                                                                                                                                                                                                                                                                                                                                                                                                                                                                                                                                                                                                                                                                                                                                                                                                                                                   \n",
       "159351  ASHMOON you guys rock!  The medicine I picked up left my hand super icky sticky.  I tried a 10g and a 15g.  Both were great!  Looking forward to visiting Happy Hour!                                                                                                                                                                                                                                                                                                                                                                                                                                                                                                                                                                                                                                                                                                                                                                                                                  \n",
       "145305  awesome place                                                                                                                                                                                                                                                                                                                                                                                                                                                                                                                                                                                                                                                                                                                                                                                                                                                                                                                                                                          \n",
       "55282   I love this place all the bud tenders are awesome                                                                                                                                                                                                                                                                                                                                                                                                                                                                                                                                                                                                                                                                                                                                                                                                                                                                                                                                      \n",
       "73231   Loved the service too                                                                                                                                                                                                                                                                                                                                                                                                                                                                                                                                                                                                                                                                                                                                                                                                                                                                                                                                                                  \n",
       "55882   I absolutely loved my experience with these guys. the driver was very educated an gave great advice that worked wonders. I will be recommending them to my friends. quality producs and discrete arrival.. I am very impressed! prices are great too ðð»                                                                                                                                                                                                                                                                                                                                                                                                                                                                                                                                                                                                                                                                                                                          \n",
       "73735   best around. yee stay lit Ã°Å¸ÂÂ                                                                                                                                                                                                                                                                                                                                                                                                                                                                                                                                                                                                                                                                                                                                                                                                                                                                                                                                                     \n",
       "13486   really good kief to top off your bowls!! good price to.                                                                                                                                                                                                                                                                                                                                                                                                                                                                                                                                                                                                                                                                                                                                                                                                                                                                                                                                \n",
       "104526  fire ass wood best prices love the wax and the enviorment is great best vibes ever                                                                                                                                                                                                                                                                                                                                                                                                                                                                                                                                                                                                                                                                                                                                                                                                                                                                                                     \n",
       "78858   Love this place                                                                                                                                                                                                                                                                                                                                                                                                                                                                                                                                                                                                                                                                                                                                                                                                                                                                                                                                                                        \n",
       "92058   they have real good grams for twelve dollars and the staff is good with good service. its real affordable for everyone. i come here almostbeveryday ad im still not gettimg tired of the bud.                                                                                                                                                                                                                                                                                                                                                                                                                                                                                                                                                                                                                                                                                                                                                                                          \n",
       "134038  NaN                                                                                                                                                                                                                                                                                                                                                                                                                                                                                                                                                                                                                                                                                                                                                                                                                                                                                                                                                                                    \n",
       "35379   after visiting a few more dispensaries, I have to say altho their shop is a little messy, this is one place I will be returning to.                                                                                                                                                                                                                                                                                                                                                                                                                                                                                                                                                                                                                                                                                                                                                                                                                                                    \n",
       "52072   Best selection best service                                                                                                                                                                                                                                                                                                                                                                                                                                                                                                                                                                                                                                                                                                                                                                                                                                                                                                                                                            \n",
       "\n",
       "        rating  staff_rating  atmos_rating  bud_rating  \n",
       "86672   5.0     5.0           5.0           5.0         \n",
       "62367   5.0     5.0          NaN            5.0         \n",
       "83075   5.0     5.0           5.0           5.0         \n",
       "54931   4.6     5.0           5.0           5.0         \n",
       "138493  5.0     5.0           5.0           5.0         \n",
       "139301  5.0     5.0           5.0           5.0         \n",
       "93776   5.0     5.0          NaN            5.0         \n",
       "92127   5.0     5.0           5.0           5.0         \n",
       "97141   5.0     5.0           5.0           5.0         \n",
       "172195  5.0     5.0           5.0           5.0         \n",
       "168944  5.0     5.0           5.0           5.0         \n",
       "72603   5.0     5.0           5.0           5.0         \n",
       "159351  5.0     5.0           5.0           5.0         \n",
       "145305  5.0     5.0           5.0           5.0         \n",
       "55282   5.0     5.0           5.0           5.0         \n",
       "73231   5.0     5.0           5.0           5.0         \n",
       "55882   5.0     5.0          NaN            5.0         \n",
       "73735   5.0     5.0           5.0           5.0         \n",
       "13486   5.0     5.0           5.0           5.0         \n",
       "104526  5.0     5.0           5.0           5.0         \n",
       "78858   5.0     5.0           5.0           5.0         \n",
       "92058   3.8     4.0           4.0           4.0         \n",
       "134038 NaN     NaN           NaN           NaN          \n",
       "35379   5.0     5.0           5.0           5.0         \n",
       "52072   5.0     5.0           5.0           5.0         "
      ]
     },
     "execution_count": 101,
     "metadata": {},
     "output_type": "execute_result"
    }
   ],
   "source": [
    "df[['review_title','review_body','rating','staff_rating','atmos_rating','bud_rating']].sample(25)"
   ]
  },
  {
   "cell_type": "markdown",
   "metadata": {},
   "source": [
    "## 1.Predict Rating"
   ]
  },
  {
   "cell_type": "code",
   "execution_count": 117,
   "metadata": {},
   "outputs": [],
   "source": [
    "rating_df= df[['review_title','review_body','rating']]"
   ]
  },
  {
   "cell_type": "code",
   "execution_count": 118,
   "metadata": {},
   "outputs": [
    {
     "data": {
      "text/html": [
       "<div>\n",
       "<style scoped>\n",
       "    .dataframe tbody tr th:only-of-type {\n",
       "        vertical-align: middle;\n",
       "    }\n",
       "\n",
       "    .dataframe tbody tr th {\n",
       "        vertical-align: top;\n",
       "    }\n",
       "\n",
       "    .dataframe thead th {\n",
       "        text-align: right;\n",
       "    }\n",
       "</style>\n",
       "<table border=\"1\" class=\"dataframe\">\n",
       "  <thead>\n",
       "    <tr style=\"text-align: right;\">\n",
       "      <th></th>\n",
       "      <th>review_title</th>\n",
       "      <th>review_body</th>\n",
       "      <th>rating</th>\n",
       "    </tr>\n",
       "  </thead>\n",
       "  <tbody>\n",
       "    <tr>\n",
       "      <th>0</th>\n",
       "      <td>BEST QUALITY FOR BEAUTIFUL PRICE</td>\n",
       "      <td>Best quality of bud i have ever seen every jar was filled with sticky potent weed not to mention the fire waxes! My new spot fosho</td>\n",
       "      <td>5.0</td>\n",
       "    </tr>\n",
       "    <tr>\n",
       "      <th>1</th>\n",
       "      <td>FTP</td>\n",
       "      <td>Cool shop. Nice meds, prices, and staff.</td>\n",
       "      <td>5.0</td>\n",
       "    </tr>\n",
       "    <tr>\n",
       "      <th>2</th>\n",
       "      <td>great place</td>\n",
       "      <td>good product great staff friendly atmosphere</td>\n",
       "      <td>5.0</td>\n",
       "    </tr>\n",
       "    <tr>\n",
       "      <th>3</th>\n",
       "      <td>OC HOTBOX GOT ð¥</td>\n",
       "      <td>Bomb meds and staff, headed to the hot box now and so should you!</td>\n",
       "      <td>5.0</td>\n",
       "    </tr>\n",
       "    <tr>\n",
       "      <th>4</th>\n",
       "      <td>Great place.</td>\n",
       "      <td>1st time client. Easy location, great atmosphere. The staff was pleasant and I worked with Tyler who was very knowledgable about his products. I felt comfortable purchasing, definitely will return.</td>\n",
       "      <td>5.0</td>\n",
       "    </tr>\n",
       "  </tbody>\n",
       "</table>\n",
       "</div>"
      ],
      "text/plain": [
       "                       review_title  \\\n",
       "0  BEST QUALITY FOR BEAUTIFUL PRICE   \n",
       "1  FTP                                \n",
       "2  great place                        \n",
       "3  OC HOTBOX GOT ð¥                 \n",
       "4  Great place.                       \n",
       "\n",
       "                                                                                                                                                                                             review_body  \\\n",
       "0  Best quality of bud i have ever seen every jar was filled with sticky potent weed not to mention the fire waxes! My new spot fosho                                                                      \n",
       "1  Cool shop. Nice meds, prices, and staff.                                                                                                                                                                \n",
       "2  good product great staff friendly atmosphere                                                                                                                                                            \n",
       "3  Bomb meds and staff, headed to the hot box now and so should you!                                                                                                                                       \n",
       "4  1st time client. Easy location, great atmosphere. The staff was pleasant and I worked with Tyler who was very knowledgable about his products. I felt comfortable purchasing, definitely will return.   \n",
       "\n",
       "   rating  \n",
       "0  5.0     \n",
       "1  5.0     \n",
       "2  5.0     \n",
       "3  5.0     \n",
       "4  5.0     "
      ]
     },
     "execution_count": 118,
     "metadata": {},
     "output_type": "execute_result"
    }
   ],
   "source": [
    "rating_df.head()"
   ]
  },
  {
   "cell_type": "markdown",
   "metadata": {},
   "source": [
    "#### Checking null values"
   ]
  },
  {
   "cell_type": "code",
   "execution_count": 119,
   "metadata": {},
   "outputs": [
    {
     "data": {
      "text/plain": [
       "True"
      ]
     },
     "execution_count": 119,
     "metadata": {},
     "output_type": "execute_result"
    }
   ],
   "source": [
    "rating_df.isnull().values.any()"
   ]
  },
  {
   "cell_type": "code",
   "execution_count": 120,
   "metadata": {},
   "outputs": [
    {
     "data": {
      "text/plain": [
       "(173101, 3)"
      ]
     },
     "execution_count": 120,
     "metadata": {},
     "output_type": "execute_result"
    }
   ],
   "source": [
    "rating_df.shape"
   ]
  },
  {
   "cell_type": "code",
   "execution_count": 121,
   "metadata": {},
   "outputs": [],
   "source": [
    "rating_df = rating_df.dropna()\n",
    "rating_df.reset_index(inplace=True,drop=True)"
   ]
  },
  {
   "cell_type": "code",
   "execution_count": 122,
   "metadata": {},
   "outputs": [
    {
     "data": {
      "text/plain": [
       "(161131, 3)"
      ]
     },
     "execution_count": 122,
     "metadata": {},
     "output_type": "execute_result"
    }
   ],
   "source": [
    "rating_df.shape"
   ]
  },
  {
   "cell_type": "code",
   "execution_count": 123,
   "metadata": {},
   "outputs": [
    {
     "data": {
      "text/plain": [
       "False"
      ]
     },
     "execution_count": 123,
     "metadata": {},
     "output_type": "execute_result"
    }
   ],
   "source": [
    "rating_df.isnull().values.any()"
   ]
  },
  {
   "cell_type": "markdown",
   "metadata": {},
   "source": [
    "#### Cleaning Data"
   ]
  },
  {
   "cell_type": "code",
   "execution_count": 124,
   "metadata": {},
   "outputs": [],
   "source": [
    "for index,row in rating_df.iterrows():\n",
    "    rating_df.at[index,'review_title'] = ''.join([char if ord(char) < 128 else '' for char in row['review_title']])\n",
    "    rating_df.at[index,'review_body'] = ''.join([char if ord(char) < 128 else '' for char in row['review_body']])"
   ]
  },
  {
   "cell_type": "code",
   "execution_count": 125,
   "metadata": {},
   "outputs": [],
   "source": [
    "rating_df['review_title'].replace('',np.nan,inplace=True)\n",
    "rating_df['review_body'].replace('',np.nan,inplace=True)"
   ]
  },
  {
   "cell_type": "code",
   "execution_count": 126,
   "metadata": {},
   "outputs": [
    {
     "data": {
      "text/plain": [
       "True"
      ]
     },
     "execution_count": 126,
     "metadata": {},
     "output_type": "execute_result"
    }
   ],
   "source": [
    "rating_df.isnull().values.any()"
   ]
  },
  {
   "cell_type": "code",
   "execution_count": 127,
   "metadata": {
    "collapsed": true
   },
   "outputs": [],
   "source": [
    "rating_df.dropna(inplace=True)\n",
    "rating_df.reset_index(inplace=True,drop=True)"
   ]
  },
  {
   "cell_type": "code",
   "execution_count": 128,
   "metadata": {},
   "outputs": [
    {
     "data": {
      "text/plain": [
       "(157684, 3)"
      ]
     },
     "execution_count": 128,
     "metadata": {},
     "output_type": "execute_result"
    }
   ],
   "source": [
    "rating_df.shape"
   ]
  },
  {
   "cell_type": "code",
   "execution_count": 129,
   "metadata": {},
   "outputs": [
    {
     "data": {
      "text/html": [
       "<div>\n",
       "<style scoped>\n",
       "    .dataframe tbody tr th:only-of-type {\n",
       "        vertical-align: middle;\n",
       "    }\n",
       "\n",
       "    .dataframe tbody tr th {\n",
       "        vertical-align: top;\n",
       "    }\n",
       "\n",
       "    .dataframe thead th {\n",
       "        text-align: right;\n",
       "    }\n",
       "</style>\n",
       "<table border=\"1\" class=\"dataframe\">\n",
       "  <thead>\n",
       "    <tr style=\"text-align: right;\">\n",
       "      <th></th>\n",
       "      <th>review_title</th>\n",
       "      <th>review_body</th>\n",
       "      <th>rating</th>\n",
       "    </tr>\n",
       "  </thead>\n",
       "  <tbody>\n",
       "    <tr>\n",
       "      <th>0</th>\n",
       "      <td>BEST QUALITY FOR BEAUTIFUL PRICE</td>\n",
       "      <td>Best quality of bud i have ever seen every jar was filled with sticky potent weed not to mention the fire waxes! My new spot fosho</td>\n",
       "      <td>5.0</td>\n",
       "    </tr>\n",
       "    <tr>\n",
       "      <th>1</th>\n",
       "      <td>FTP</td>\n",
       "      <td>Cool shop. Nice meds, prices, and staff.</td>\n",
       "      <td>5.0</td>\n",
       "    </tr>\n",
       "    <tr>\n",
       "      <th>2</th>\n",
       "      <td>great place</td>\n",
       "      <td>good product great staff friendly atmosphere</td>\n",
       "      <td>5.0</td>\n",
       "    </tr>\n",
       "    <tr>\n",
       "      <th>3</th>\n",
       "      <td>OC HOTBOX GOT</td>\n",
       "      <td>Bomb meds and staff, headed to the hot box now and so should you!</td>\n",
       "      <td>5.0</td>\n",
       "    </tr>\n",
       "    <tr>\n",
       "      <th>4</th>\n",
       "      <td>Great place.</td>\n",
       "      <td>1st time client. Easy location, great atmosphere. The staff was pleasant and I worked with Tyler who was very knowledgable about his products. I felt comfortable purchasing, definitely will return.</td>\n",
       "      <td>5.0</td>\n",
       "    </tr>\n",
       "  </tbody>\n",
       "</table>\n",
       "</div>"
      ],
      "text/plain": [
       "                       review_title  \\\n",
       "0  BEST QUALITY FOR BEAUTIFUL PRICE   \n",
       "1  FTP                                \n",
       "2  great place                        \n",
       "3  OC HOTBOX GOT                      \n",
       "4  Great place.                       \n",
       "\n",
       "                                                                                                                                                                                             review_body  \\\n",
       "0  Best quality of bud i have ever seen every jar was filled with sticky potent weed not to mention the fire waxes! My new spot fosho                                                                      \n",
       "1  Cool shop. Nice meds, prices, and staff.                                                                                                                                                                \n",
       "2  good product great staff friendly atmosphere                                                                                                                                                            \n",
       "3  Bomb meds and staff, headed to the hot box now and so should you!                                                                                                                                       \n",
       "4  1st time client. Easy location, great atmosphere. The staff was pleasant and I worked with Tyler who was very knowledgable about his products. I felt comfortable purchasing, definitely will return.   \n",
       "\n",
       "   rating  \n",
       "0  5.0     \n",
       "1  5.0     \n",
       "2  5.0     \n",
       "3  5.0     \n",
       "4  5.0     "
      ]
     },
     "execution_count": 129,
     "metadata": {},
     "output_type": "execute_result"
    }
   ],
   "source": [
    "rating_df.head()"
   ]
  },
  {
   "cell_type": "markdown",
   "metadata": {},
   "source": [
    "#### Generating Features"
   ]
  },
  {
   "cell_type": "code",
   "execution_count": 130,
   "metadata": {
    "collapsed": true
   },
   "outputs": [],
   "source": [
    "rating_df['review'] =  rating_df['review_title'] + ' ' + rating_df['review_body']\n",
    "rating_df = rating_df[['review','rating']]"
   ]
  },
  {
   "cell_type": "code",
   "execution_count": 131,
   "metadata": {},
   "outputs": [
    {
     "data": {
      "text/html": [
       "<div>\n",
       "<style scoped>\n",
       "    .dataframe tbody tr th:only-of-type {\n",
       "        vertical-align: middle;\n",
       "    }\n",
       "\n",
       "    .dataframe tbody tr th {\n",
       "        vertical-align: top;\n",
       "    }\n",
       "\n",
       "    .dataframe thead th {\n",
       "        text-align: right;\n",
       "    }\n",
       "</style>\n",
       "<table border=\"1\" class=\"dataframe\">\n",
       "  <thead>\n",
       "    <tr style=\"text-align: right;\">\n",
       "      <th></th>\n",
       "      <th>review</th>\n",
       "      <th>rating</th>\n",
       "    </tr>\n",
       "  </thead>\n",
       "  <tbody>\n",
       "    <tr>\n",
       "      <th>0</th>\n",
       "      <td>BEST QUALITY FOR BEAUTIFUL PRICE Best quality of bud i have ever seen every jar was filled with sticky potent weed not to mention the fire waxes! My new spot fosho</td>\n",
       "      <td>5.0</td>\n",
       "    </tr>\n",
       "    <tr>\n",
       "      <th>1</th>\n",
       "      <td>FTP Cool shop. Nice meds, prices, and staff.</td>\n",
       "      <td>5.0</td>\n",
       "    </tr>\n",
       "    <tr>\n",
       "      <th>2</th>\n",
       "      <td>great place  good product great staff friendly atmosphere</td>\n",
       "      <td>5.0</td>\n",
       "    </tr>\n",
       "    <tr>\n",
       "      <th>3</th>\n",
       "      <td>OC HOTBOX GOT  Bomb meds and staff, headed to the hot box now and so should you!</td>\n",
       "      <td>5.0</td>\n",
       "    </tr>\n",
       "    <tr>\n",
       "      <th>4</th>\n",
       "      <td>Great place. 1st time client. Easy location, great atmosphere. The staff was pleasant and I worked with Tyler who was very knowledgable about his products. I felt comfortable purchasing, definitely will return.</td>\n",
       "      <td>5.0</td>\n",
       "    </tr>\n",
       "  </tbody>\n",
       "</table>\n",
       "</div>"
      ],
      "text/plain": [
       "                                                                                                                                                                                                               review  \\\n",
       "0  BEST QUALITY FOR BEAUTIFUL PRICE Best quality of bud i have ever seen every jar was filled with sticky potent weed not to mention the fire waxes! My new spot fosho                                                  \n",
       "1  FTP Cool shop. Nice meds, prices, and staff.                                                                                                                                                                         \n",
       "2  great place  good product great staff friendly atmosphere                                                                                                                                                            \n",
       "3  OC HOTBOX GOT  Bomb meds and staff, headed to the hot box now and so should you!                                                                                                                                     \n",
       "4  Great place. 1st time client. Easy location, great atmosphere. The staff was pleasant and I worked with Tyler who was very knowledgable about his products. I felt comfortable purchasing, definitely will return.   \n",
       "\n",
       "   rating  \n",
       "0  5.0     \n",
       "1  5.0     \n",
       "2  5.0     \n",
       "3  5.0     \n",
       "4  5.0     "
      ]
     },
     "execution_count": 131,
     "metadata": {},
     "output_type": "execute_result"
    }
   ],
   "source": [
    "rating_df.head()"
   ]
  },
  {
   "cell_type": "code",
   "execution_count": 144,
   "metadata": {},
   "outputs": [
    {
     "name": "stderr",
     "output_type": "stream",
     "text": [
      "C:\\Users\\Selva\\Anaconda3\\lib\\site-packages\\sklearn\\feature_extraction\\text.py:1089: FutureWarning: Conversion of the second argument of issubdtype from `float` to `np.floating` is deprecated. In future, it will be treated as `np.float64 == np.dtype(float).type`.\n",
      "  if hasattr(X, 'dtype') and np.issubdtype(X.dtype, np.float):\n"
     ]
    }
   ],
   "source": [
    "vect = TfidfVectorizer(input='content',stop_words='english',analyzer='word', ngram_range=(1,6),\n",
    "                     min_df = 0, sublinear_tf=True)\n",
    "X = vect.fit_transform(rating_df.review)\n"
   ]
  },
  {
   "cell_type": "code",
   "execution_count": 145,
   "metadata": {},
   "outputs": [
    {
     "name": "stdout",
     "output_type": "stream",
     "text": [
      "(157684, 7738982)\n"
     ]
    }
   ],
   "source": [
    "print(X.shape)"
   ]
  },
  {
   "cell_type": "markdown",
   "metadata": {},
   "source": [
    "#### Modelling"
   ]
  }
 ],
 "metadata": {
  "kernelspec": {
   "display_name": "Python 3",
   "language": "python",
   "name": "python3"
  },
  "language_info": {
   "codemirror_mode": {
    "name": "ipython",
    "version": 3
   },
   "file_extension": ".py",
   "mimetype": "text/x-python",
   "name": "python",
   "nbconvert_exporter": "python",
   "pygments_lexer": "ipython3",
   "version": "3.6.6"
  }
 },
 "nbformat": 4,
 "nbformat_minor": 2
}
